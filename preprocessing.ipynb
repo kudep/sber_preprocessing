{
 "cells": [
  {
   "cell_type": "code",
   "execution_count": 1,
   "metadata": {},
   "outputs": [],
   "source": [
    "#debug options\n",
    "# http://ipython.readthedocs.io/en/stable/config/extensions/autoreload.html\n",
    "%load_ext autoreload\n",
    "%autoreload 2"
   ]
  },
  {
   "cell_type": "code",
   "execution_count": 2,
   "metadata": {},
   "outputs": [],
   "source": [
    "#incleding modules\n",
    "import pandas as pd\n",
    "from os import path\n",
    "import os\n",
    "import utils.shared as utils\n",
    "import utils.preprocessing as preprocessing\n",
    "import utils.analysis as analysis\n",
    "import matplotlib.pyplot as plt"
   ]
  },
  {
   "cell_type": "code",
   "execution_count": 33,
   "metadata": {},
   "outputs": [],
   "source": [
    "# Path variable initialize\n",
    "root_dir = '../rawdata/sber/'\n",
    "xlsx_file = path.join(root_dir,'tech_suply.xlsx')\n",
    "# xlsx_file = path.join(root_dir,'toy.xlsx')\n",
    "save_dir = '../preprodata/stage4/sber/'\n",
    "# os.mkdir(save_dir)\n",
    "cor_train = path.join(save_dir,'train.cor')\n",
    "man_train = path.join(save_dir,'train.man')\n",
    "cor_test = path.join(save_dir,'test.cor')\n",
    "man_test= path.join(save_dir,'test.man')\n",
    "cor_dev_test = path.join(save_dir,'dev_test.cor')\n",
    "man_dev_test = path.join(save_dir,'dev_test.man')\n",
    "cor_all = path.join(save_dir,'used_text.cor')\n",
    "man_all = path.join(save_dir,'used_text.man')\n",
    "man_voc = path.join(save_dir,'vocab.man')\n",
    "cor_voc = path.join(save_dir,'vocab.cor')\n",
    "\n",
    "# Addition variable initialize\n",
    "part_of_all_data = 1\n",
    "train_part_of_used_data = 0.95\n",
    "dev_part_of_test = 0.5\n",
    "pad_enable = False\n",
    "label_line_len = 140"
   ]
  },
  {
   "cell_type": "code",
   "execution_count": 4,
   "metadata": {
    "collapsed": true
   },
   "outputs": [],
   "source": [
    "# Get dataset xlsx => df\n",
    "rawdataset = pd.read_excel(xlsx_file)"
   ]
  },
  {
   "cell_type": "code",
   "execution_count": 5,
   "metadata": {
    "collapsed": true
   },
   "outputs": [],
   "source": [
    "# Drop useless columns df => df\n",
    "l_column =\"CHAT_ID\"\n",
    "r_column =\"TYPE\"\n",
    "dataset = rawdataset.loc[:, l_column:r_column]"
   ]
  },
  {
   "cell_type": "code",
   "execution_count": 6,
   "metadata": {},
   "outputs": [
    {
     "name": "stderr",
     "output_type": "stream",
     "text": [
      "100% (5 of 5) |###########################| Elapsed Time: 0:00:25 Time: 0:00:25\n"
     ]
    }
   ],
   "source": [
    "# Tokinaze useless columns df => df\n",
    "column_name = 'TEXT'\n",
    "patterns = utils.regex_patterns.std_tokinaze\n",
    "tokinazed_dataset = utils.tokinaze_column(dataset, column_name,patterns)"
   ]
  },
  {
   "cell_type": "code",
   "execution_count": 7,
   "metadata": {},
   "outputs": [
    {
     "name": "stderr",
     "output_type": "stream",
     "text": [
      "100% (58082 of 58082) |###################| Elapsed Time: 0:01:22 Time: 0:01:22\n"
     ]
    }
   ],
   "source": [
    "# Get chats list df => [df0,df1,..]\n",
    "column_name = 'CHAT_ID'\n",
    "chats = preprocessing.get_chats_list(tokinazed_dataset, column_name)"
   ]
  },
  {
   "cell_type": "code",
   "execution_count": 8,
   "metadata": {
    "scrolled": true
   },
   "outputs": [
    {
     "name": "stderr",
     "output_type": "stream",
     "text": [
      "100% (58082 of 58082) |###################| Elapsed Time: 0:01:13 Time: 0:01:13\n"
     ]
    }
   ],
   "source": [
    "# Insert a special tag in dialogue begining  [df0,df1,..] => [df0,df1,..]\n",
    "chats = preprocessing.pauses_insert_in_begin(chats)"
   ]
  },
  {
   "cell_type": "code",
   "execution_count": 9,
   "metadata": {},
   "outputs": [
    {
     "name": "stderr",
     "output_type": "stream",
     "text": [
      "100% (58082 of 58082) |###################| Elapsed Time: 0:09:30 Time: 0:09:30\n"
     ]
    }
   ],
   "source": [
    "# Insert a special tag between the replies of the same author [df0,df1,..] => [df0,df1,..]\n",
    "chats = preprocessing.insert_pauses(chats)"
   ]
  },
  {
   "cell_type": "code",
   "execution_count": 10,
   "metadata": {
    "scrolled": true
   },
   "outputs": [
    {
     "name": "stderr",
     "output_type": "stream",
     "text": [
      "100% (58082 of 58082) |###################| Elapsed Time: 0:05:11 Time: 0:05:11\n"
     ]
    }
   ],
   "source": [
    "# Delete a replica dublicates [df0,df1,..] => [df0,df1,..]\n",
    "chats = preprocessing.delete_dublicates(chats)"
   ]
  },
  {
   "cell_type": "code",
   "execution_count": 11,
   "metadata": {
    "scrolled": true
   },
   "outputs": [
    {
     "name": "stderr",
     "output_type": "stream",
     "text": [
      "100% (58062 of 58062) |###################| Elapsed Time: 0:02:46 Time: 0:02:46\n"
     ]
    }
   ],
   "source": [
    "# Concatenate near dialogs by one author [df0,df1,..] => [df0,df1,..]\n",
    "chats = preprocessing.sentence_concatenate(chats)"
   ]
  },
  {
   "cell_type": "code",
   "execution_count": 12,
   "metadata": {
    "scrolled": true
   },
   "outputs": [
    {
     "name": "stderr",
     "output_type": "stream",
     "text": [
      "100% (58062 of 58062) |###################| Elapsed Time: 0:00:12 Time: 0:00:12\n"
     ]
    }
   ],
   "source": [
    "# If end dialog is sended by corporate then delete it [df0,df1,..] => [df0,df1,..]\n",
    "chats = preprocessing.delete_corp_endings(chats)"
   ]
  },
  {
   "cell_type": "code",
   "execution_count": 13,
   "metadata": {
    "scrolled": true
   },
   "outputs": [
    {
     "name": "stderr",
     "output_type": "stream",
     "text": [
      "100% (58062 of 58062) |###################| Elapsed Time: 0:00:00 Time: 0:00:00\n"
     ]
    }
   ],
   "source": [
    "# Delete chats with replica numbel less count_trashhold [df0,df1,..] => [df0,df1,..]\n",
    "chats = preprocessing.delete_small_chat(chats, count_trashhold=5)"
   ]
  },
  {
   "cell_type": "code",
   "execution_count": 14,
   "metadata": {
    "scrolled": true
   },
   "outputs": [
    {
     "name": "stderr",
     "output_type": "stream",
     "text": [
      "100% (54493 of 54493) |###################| Elapsed Time: 0:00:00 Time: 0:00:00\n"
     ]
    }
   ],
   "source": [
    "# Delete chats with replica numbel less count_trashhold [df0,df1,..] => [df0,df1,..]\n",
    "count_trashhold=10\n",
    "chats = preprocessing.delete_small_chat(chats, count_trashhold)"
   ]
  },
  {
   "cell_type": "code",
   "execution_count": 15,
   "metadata": {
    "scrolled": true
   },
   "outputs": [
    {
     "name": "stderr",
     "output_type": "stream",
     "text": [
      "100% (31024 of 31024) |###################| Elapsed Time: 0:11:23 Time: 0:11:23\n"
     ]
    }
   ],
   "source": [
    "# Add service tag in chats [df0,df1,..] => [df0,df1,..]\n",
    "ser_taged_chats = preprocessing.add_service_tag(chats)"
   ]
  },
  {
   "cell_type": "code",
   "execution_count": 16,
   "metadata": {
    "scrolled": true
   },
   "outputs": [
    {
     "name": "stderr",
     "output_type": "stream",
     "text": [
      "100% (31024 of 31024) |###################| Elapsed Time: 0:05:20 Time: 0:05:20\n"
     ]
    }
   ],
   "source": [
    "# Concatenate near dialogs by one author [df0,df1,..] => [df0,df1,..]\n",
    "ser_taged_chats = preprocessing.sentence_concatenate(ser_taged_chats)"
   ]
  },
  {
   "cell_type": "code",
   "execution_count": 17,
   "metadata": {
    "scrolled": true
   },
   "outputs": [
    {
     "name": "stderr",
     "output_type": "stream",
     "text": [
      "| 31023 Elapsed Time: 0:03:07                                                  \n"
     ]
    }
   ],
   "source": [
    "# Add indexes [df0,df1,..],[df0,df1,..] => [df0,df1,..]\n",
    "context_len = 140\n",
    "man_replic_max = 2\n",
    "man_chats = preprocessing.add_indexing(ser_taged_chats,chats,context_len,man_replic_max)"
   ]
  },
  {
   "cell_type": "code",
   "execution_count": 18,
   "metadata": {
    "scrolled": true
   },
   "outputs": [],
   "source": [
    "# Zip chats [df0,df1,..],[df0,df1,..] => [(df0,df0),(df1,df1),..]\n",
    "context_chats = ser_taged_chats\n",
    "ans_chats = man_chats\n",
    "resulted_chats = preprocessing.zipper(context_chats, ans_chats)"
   ]
  },
  {
   "cell_type": "code",
   "execution_count": 44,
   "metadata": {},
   "outputs": [
    {
     "name": "stderr",
     "output_type": "stream",
     "text": [
      "  0% (47 of 29472) |                      | Elapsed Time: 0:00:00 ETA:  0:06:39"
     ]
    },
    {
     "name": "stdout",
     "output_type": "stream",
     "text": [
      "\n",
      "                        Catch empty line:\n",
      "                        train_line: \n",
      "                        label_line: Вы вошли обратно в систему ?\n",
      "                        \n",
      "\n",
      "                        Catch empty line:\n",
      "                        train_line: \n",
      "                        label_line: Спасибо за ожидание , уточнила информацию по Вашему вопросу .\n",
      "                        \n"
     ]
    },
    {
     "name": "stderr",
     "output_type": "stream",
     "text": [
      "  0% (90 of 29472) |                      | Elapsed Time: 0:00:01 ETA:  0:05:46"
     ]
    },
    {
     "name": "stdout",
     "output_type": "stream",
     "text": [
      "\n",
      "                        Catch empty line:\n",
      "                        train_line: \n",
      "                        label_line: Вы можете оставить жалобу на работу программы на Линии качества по телефону 8-800-555-57-77 по кнопке \" 3 \" или на сайте sberbank . ru в разделе \" Обратная связь \" , далее нажмите \" Напишите нам \" и в разделе \" Укажите , с чем связано Ваше обращение \" выбрать \" Качество обслуживания \" .\n",
      "                        \n"
     ]
    },
    {
     "name": "stderr",
     "output_type": "stream",
     "text": [
      "  0% (114 of 29472) |                     | Elapsed Time: 0:00:01 ETA:  0:05:26"
     ]
    },
    {
     "name": "stdout",
     "output_type": "stream",
     "text": [
      "\n",
      "                        Catch empty line:\n",
      "                        train_line: \n",
      "                        label_line: Уточните , пожалуйста , что Вы указали в поле 106 \" Основание платежа \" ?\n",
      "                        \n",
      "\n",
      "                        Catch empty line:\n",
      "                        train_line: \n",
      "                        label_line: Если бы было несколько пользователей , то заявление можно направить электронно . В данном случае такая возможность отсутствует .\n",
      "                        \n",
      "\n",
      "                        Catch empty line:\n",
      "                        train_line: \n",
      "                        label_line: Вам поступило письмо из Банка , верно ?\n",
      "                        \n",
      "\n",
      "                        Catch empty line:\n",
      "                        train_line: \n",
      "                        label_line: Виктория Валерьевна , данную информацию необходимо прописать именно в назначении платежа .\n",
      "                        \n"
     ]
    },
    {
     "name": "stderr",
     "output_type": "stream",
     "text": [
      "  0% (215 of 29472) |                     | Elapsed Time: 0:00:02 ETA:  0:05:02"
     ]
    },
    {
     "name": "stdout",
     "output_type": "stream",
     "text": [
      "\n",
      "                        Catch empty line:\n",
      "                        train_line: \n",
      "                        label_line: Мария Алексеевна , при создании заявки на выпуск электронной подписи , Вам необходимо загрузить скан копии нового паспорта , СНИЛС с измененными данными .\n",
      "                        \n",
      "\n",
      "                        Catch empty line:\n",
      "                        train_line: \n",
      "                        label_line: Служба технической поддержки Сбербанка , меня зовут Анастасия . Здравствуйте !\n",
      "                        \n"
     ]
    },
    {
     "name": "stderr",
     "output_type": "stream",
     "text": [
      "  1% (304 of 29472) |                     | Elapsed Time: 0:00:03 ETA:  0:05:06"
     ]
    },
    {
     "name": "stdout",
     "output_type": "stream",
     "text": [
      "\n",
      "                        Catch empty line:\n",
      "                        train_line: \n",
      "                        label_line: У Вас платеж в бюджет ?\n",
      "                        \n",
      "\n",
      "                        Catch empty line:\n",
      "                        train_line: \n",
      "                        label_line: У Вас в системе одна подпись ?\n",
      "                        \n"
     ]
    },
    {
     "name": "stderr",
     "output_type": "stream",
     "text": [
      "  1% (352 of 29472) |                     | Elapsed Time: 0:00:03 ETA:  0:05:07"
     ]
    },
    {
     "name": "stdout",
     "output_type": "stream",
     "text": [
      "\n",
      "                        Catch empty line:\n",
      "                        train_line: \n",
      "                        label_line: В новом дизайне файлы называются данном образом . Переименовать Вы можете только вручную . Попробуйте экспортировать повторно выписки .\n",
      "                        \n",
      "\n",
      "                        Catch empty line:\n",
      "                        train_line: \n",
      "                        label_line: Отправляйте весь файл и скриншоты пошаговые где видно что , Вы проставляете период .\n",
      "                        \n",
      "\n",
      "                        Catch empty line:\n",
      "                        train_line: \n",
      "                        label_line: На почту Вы отправили скриншоты и файл ? Т . к . мне необходимо выставить запрос для детальной проверки мне понадобятся эти файлы .\n",
      "                        \n",
      "\n",
      "                        Catch empty line:\n",
      "                        train_line: \n",
      "                        label_line: Уточните , пожалуйста , у Вас остался номер обращения в нашу службу технической поддержки ?\n",
      "                        \n"
     ]
    },
    {
     "name": "stderr",
     "output_type": "stream",
     "text": [
      "  1% (486 of 29472) |                     | Elapsed Time: 0:00:04 ETA:  0:04:55"
     ]
    },
    {
     "name": "stdout",
     "output_type": "stream",
     "text": [
      "\n",
      "                        Catch empty line:\n",
      "                        train_line: \n",
      "                        label_line: Компонент Сфера у Вас установлен на компьютер ? В программах Вы смотрели ?\n",
      "                        \n"
     ]
    },
    {
     "name": "stderr",
     "output_type": "stream",
     "text": [
      "  1% (534 of 29472) |                     | Elapsed Time: 0:00:05 ETA:  0:04:51"
     ]
    },
    {
     "name": "stdout",
     "output_type": "stream",
     "text": [
      "\n",
      "                        Catch empty line:\n",
      "                        train_line: \n",
      "                        label_line: С этим соглашусь .\n",
      "                        \n",
      "\n",
      "                        Catch empty line:\n",
      "                        train_line: \n",
      "                        label_line: Я вас понял , сейчас выставлю запрос на специалистов , после чего вас уведомлю , ожидайте пожалуйста\n",
      "                        \n"
     ]
    },
    {
     "name": "stderr",
     "output_type": "stream",
     "text": [
      "  1% (581 of 29472) |                     | Elapsed Time: 0:00:05 ETA:  0:04:49"
     ]
    },
    {
     "name": "stdout",
     "output_type": "stream",
     "text": [
      "\n",
      "                        Catch empty line:\n",
      "                        train_line: \n",
      "                        label_line: Максим Геннадьевич , мне потребуется время для уточнения данной информации .\n",
      "                        \n",
      "\n",
      "                        Catch empty line:\n",
      "                        train_line: \n",
      "                        label_line: Обновлении произошло на стороне 1С .\n",
      "                        \n",
      "\n",
      "                        Catch empty line:\n",
      "                        train_line:  <COR_START> Добрый день ! <COR_START> <PAUSE> <COR_START> я просто хочу проверить чат Ты мне хоть точки пиши периодически <COR_START> <PAUSE> <COR_START> спасибо <COR_START> да , конечно мы хотим сделать чат лучше : - ) <COR_START> <PAUSE> <COR_START> <PAUSE> <COR_START> да <COR_START> лучше 4 : - ) <COR_START> Тогда 7 : - ) <MAN_START> Оно больше ) <COR_START> <PAUSE> <MAN_START> . <COR_START> <PAUSE>\n",
      "                        label_line: \n",
      "                        \n"
     ]
    },
    {
     "name": "stderr",
     "output_type": "stream",
     "text": [
      "  2% (634 of 29472) |                     | Elapsed Time: 0:00:06 ETA:  0:04:43"
     ]
    },
    {
     "name": "stdout",
     "output_type": "stream",
     "text": [
      "\n",
      "                        Catch empty line:\n",
      "                        train_line: \n",
      "                        label_line: Спасибо за ожидание . Я уточнила для Вас информацию .\n",
      "                        \n",
      "\n",
      "                        Catch empty line:\n",
      "                        train_line: \n",
      "                        label_line: Данное сообщение появилось , если у Вас изменился международный идентификатор мобильного абонента .\n",
      "                        \n",
      "\n",
      "                        Catch empty line:\n",
      "                        train_line: \n",
      "                        label_line: Поняла Вас .\n",
      "                        \n"
     ]
    },
    {
     "name": "stderr",
     "output_type": "stream",
     "text": [
      "  2% (704 of 29472) |                     | Elapsed Time: 0:00:06 ETA:  0:04:32"
     ]
    },
    {
     "name": "stdout",
     "output_type": "stream",
     "text": [
      "\n",
      "                        Catch empty line:\n",
      "                        train_line: \n",
      "                        label_line: Служба технической поддержки Сбербанка , меня зовут Алёна . Здравствуйте !\n",
      "                        \n",
      "\n",
      "                        Catch empty line:\n",
      "                        train_line: \n",
      "                        label_line: Владимир Викторович , необходимо выбрать 1С .\n",
      "                        \n"
     ]
    },
    {
     "name": "stderr",
     "output_type": "stream",
     "text": [
      "  2% (788 of 29472) |                     | Elapsed Time: 0:00:07 ETA:  0:04:21"
     ]
    },
    {
     "name": "stdout",
     "output_type": "stream",
     "text": [
      "\n",
      "                        Catch empty line:\n",
      "                        train_line: \n",
      "                        label_line: Михаил , при отправке платежного поручения в бюджет Вам необходимо в правом верхнем углу выбрать показатель статуса , затем заполнить поля \" КБК \" , \" ОКТМО \" и поля налогового периода .\n",
      "                        \n"
     ]
    },
    {
     "name": "stderr",
     "output_type": "stream",
     "text": [
      "  3% (931 of 29472) |                     | Elapsed Time: 0:00:08 ETA:  0:04:05"
     ]
    },
    {
     "name": "stdout",
     "output_type": "stream",
     "text": [
      "\n",
      "                        Catch empty line:\n",
      "                        train_line: \n",
      "                        label_line: Удалите , пожалуйста , ссылку http : / / www . w3 . org / 2001 / XMLSchema & quot ; xmlns : xsi =& quot ; http : / / www . w3 . org / 2001 / XMLSchema-instance . Сохраните изменения и повторите импорт .\n",
      "                        \n",
      "\n",
      "                        Catch empty line:\n",
      "                        train_line: \n",
      "                        label_line: Служба технической поддержки Сбербанка , меня зовут Алина , здравствуйте !\n",
      "                        \n"
     ]
    },
    {
     "name": "stderr",
     "output_type": "stream",
     "text": [
      "  3% (1090 of 29472) |                    | Elapsed Time: 0:00:09 ETA:  0:03:55"
     ]
    },
    {
     "name": "stdout",
     "output_type": "stream",
     "text": [
      "\n",
      "                        Catch empty line:\n",
      "                        train_line: \n",
      "                        label_line: Если у Вас тип работы смс , то ничего не нужно создавать .\n",
      "                        \n",
      "\n",
      "                        Catch empty line:\n",
      "                        train_line: \n",
      "                        label_line: Елена Олеговна , необходимо проверять корректность заполнения документа . Вам на адрес электронной почты я могу отправить шаблон файла и инструкцию по загрузке реестров на карты . Вам будет это удобно ?\n",
      "                        \n"
     ]
    },
    {
     "name": "stderr",
     "output_type": "stream",
     "text": [
      "  3% (1172 of 29472) |                    | Elapsed Time: 0:00:09 ETA:  0:03:53"
     ]
    },
    {
     "name": "stdout",
     "output_type": "stream",
     "text": [
      "\n",
      "                        Catch empty line:\n",
      "                        train_line: \n",
      "                        label_line: Уточните , пожалуйста , логин и ФИО учетной записи .\n",
      "                        \n",
      "\n",
      "                        Catch empty line:\n",
      "                        train_line: \n",
      "                        label_line: Его не требуется записывать . Сертификат на другого пользователя хранится на другом токене . Вы можете прислать нам скриншот данного раздела и раздела \" Запрос на новый сертификат \" ?\n",
      "                        \n"
     ]
    },
    {
     "name": "stderr",
     "output_type": "stream",
     "text": [
      "  4% (1341 of 29472) |                    | Elapsed Time: 0:00:10 ETA:  0:03:49"
     ]
    },
    {
     "name": "stdout",
     "output_type": "stream",
     "text": [
      "\n",
      "                        Catch empty line:\n",
      "                        train_line: \n",
      "                        label_line: Владимир Леонидович , какой вопрос у Вас изначально возник ?\n",
      "                        \n",
      "\n",
      "                        Catch empty line:\n",
      "                        train_line: \n",
      "                        label_line: Служба технической поддержки Сбербанка , меня зовут Валерия , здравствуйте !\n",
      "                        \n"
     ]
    },
    {
     "name": "stderr",
     "output_type": "stream",
     "text": [
      "  4% (1456 of 29472) |                    | Elapsed Time: 0:00:11 ETA:  0:03:44"
     ]
    },
    {
     "name": "stdout",
     "output_type": "stream",
     "text": [
      "\n",
      "                        Catch empty line:\n",
      "                        train_line: \n",
      "                        label_line: Указанная Вами ссылка относится к файлу , сохранённому у Вас на компьютере . В решении Вашего вопроса о причине отказа в проведении платежного поручения Вам поможет сотрудник Службы операционной поддержки . Вам нужно обратиться по номеру 8-800-555-57-77 , в тональном режиме выбрать \" 6 \" . Режим работы с 9-00 до 18-00 по местному времени ежедневно . Обращаю Ваше внимание , в целях соблюдения Банком правил конфиденциальности сотрудник запросит уточняющую информацию : 1 ) Наименование и ИНН организации ; 2 ) 5 последних цифр расчетного счета ; 3 ) Фамилию , Имя , Отчество ; 4 ) Паспортные данные ( серия , номер и дата выдачи ) ; 5 ) Одну из трех последних клиентских операций по расчетному счету .\n",
      "                        \n"
     ]
    },
    {
     "name": "stderr",
     "output_type": "stream",
     "text": [
      "  5% (1576 of 29472) |#                   | Elapsed Time: 0:00:12 ETA:  0:03:40"
     ]
    },
    {
     "name": "stdout",
     "output_type": "stream",
     "text": [
      "\n",
      "                        Catch empty line:\n",
      "                        train_line: \n",
      "                        label_line: Служба технической поддержки Сбербанка , меня зовут Алина , здравствуйте !\n",
      "                        \n"
     ]
    },
    {
     "name": "stderr",
     "output_type": "stream",
     "text": [
      "  6% (1924 of 29472) |#                   | Elapsed Time: 0:00:14 ETA:  0:03:23"
     ]
    },
    {
     "name": "stdout",
     "output_type": "stream",
     "text": [
      "\n",
      "                        Catch empty line:\n",
      "                        train_line: \n",
      "                        label_line: Павел Викторович , пожалуйста , проверьте : внутри документа есть какие-либо записи ?\n",
      "                        \n",
      "\n",
      "                        Catch empty line:\n",
      "                        train_line: \n",
      "                        label_line: Служба технической поддержки Сбербанка , меня зовут Елена , здравствуйте !\n",
      "                        \n"
     ]
    },
    {
     "name": "stderr",
     "output_type": "stream",
     "text": [
      "  7% (2239 of 29472) |#                   | Elapsed Time: 0:00:15 ETA:  0:03:10"
     ]
    },
    {
     "name": "stdout",
     "output_type": "stream",
     "text": [
      "\n",
      "                        Catch empty line:\n",
      "                        train_line: \n",
      "                        label_line: Перед этой информацией есть еще строка с надписью ' ' encode = ' ' ?\n",
      "                        \n"
     ]
    },
    {
     "name": "stderr",
     "output_type": "stream",
     "text": [
      "  7% (2291 of 29472) |#                   | Elapsed Time: 0:00:15 ETA:  0:03:09"
     ]
    },
    {
     "name": "stdout",
     "output_type": "stream",
     "text": [
      "\n",
      "                        Catch empty line:\n",
      "                        train_line: \n",
      "                        label_line: Для чего эти данные ?\n",
      "                        \n"
     ]
    },
    {
     "name": "stderr",
     "output_type": "stream",
     "text": [
      "  8% (2547 of 29472) |#                   | Elapsed Time: 0:00:17 ETA:  0:03:04"
     ]
    },
    {
     "name": "stdout",
     "output_type": "stream",
     "text": [
      "\n",
      "                        Catch empty line:\n",
      "                        train_line: \n",
      "                        label_line: Андрей Александрович , у Вас происходила ранее смена сим-карты ?\n",
      "                        \n"
     ]
    },
    {
     "name": "stderr",
     "output_type": "stream",
     "text": [
      "  8% (2594 of 29472) |#                   | Elapsed Time: 0:00:17 ETA:  0:03:04"
     ]
    },
    {
     "name": "stdout",
     "output_type": "stream",
     "text": [
      "\n",
      "                        Catch empty line:\n",
      "                        train_line: \n",
      "                        label_line: Алексей Альбертович , необходимо будет направить Ваше обращение специалистам на дополнительную проверку , можете уточнить дополнительную информацию по Вашей организации ?\n",
      "                        \n"
     ]
    },
    {
     "name": "stderr",
     "output_type": "stream",
     "text": [
      "  9% (2777 of 29472) |#                   | Elapsed Time: 0:00:18 ETA:  0:03:00"
     ]
    },
    {
     "name": "stdout",
     "output_type": "stream",
     "text": [
      "\n",
      "                        Catch empty line:\n",
      "                        train_line: \n",
      "                        label_line: Может быть имеете в виду входящие требования ?\n",
      "                        \n"
     ]
    },
    {
     "name": "stderr",
     "output_type": "stream",
     "text": [
      "  9% (2923 of 29472) |#                   | Elapsed Time: 0:00:19 ETA:  0:02:58"
     ]
    },
    {
     "name": "stdout",
     "output_type": "stream",
     "text": [
      "\n",
      "                        Catch empty line:\n",
      "                        train_line: \n",
      "                        label_line: Не вижу что бы у Вас стаяла кодировка виндовс & lt ; ? xml version =& quot ; 1 . 0 & quot ; encoding =& quot ; UTF-8 & quot ; ? & gt ;\n",
      "                        \n"
     ]
    },
    {
     "name": "stderr",
     "output_type": "stream",
     "text": [
      " 10% (2976 of 29472) |##                  | Elapsed Time: 0:00:19 ETA:  0:02:57"
     ]
    },
    {
     "name": "stdout",
     "output_type": "stream",
     "text": [
      "\n",
      "                        Catch empty line:\n",
      "                        train_line: \n",
      "                        label_line: Мне потребуется время для уточнения информации . Ожидайте , пожалуйста .\n",
      "                        \n",
      "\n",
      "                        Catch empty line:\n",
      "                        train_line: \n",
      "                        label_line: Мне потребуется время для уточнения информации . Ожидайте , пожалуйста .\n",
      "                        \n"
     ]
    },
    {
     "name": "stderr",
     "output_type": "stream",
     "text": [
      " 10% (3082 of 29472) |##                  | Elapsed Time: 0:00:20 ETA:  0:02:55"
     ]
    },
    {
     "name": "stdout",
     "output_type": "stream",
     "text": [
      "\n",
      "                        Catch empty line:\n",
      "                        train_line: \n",
      "                        label_line: Руслан Шарифуллович , уточните , пожалуйста , сколько пользователей ( с правом подписи ) у Вас в организации ?\n",
      "                        \n"
     ]
    },
    {
     "name": "stderr",
     "output_type": "stream",
     "text": [
      " 11% (3300 of 29472) |##                  | Elapsed Time: 0:00:21 ETA:  0:02:49"
     ]
    },
    {
     "name": "stdout",
     "output_type": "stream",
     "text": [
      "\n",
      "                        Catch empty line:\n",
      "                        train_line: \n",
      "                        label_line: Ожидайте , пожалуйста , мне необходимо уточнить информацию .\n",
      "                        \n",
      "\n",
      "                        Catch empty line:\n",
      "                        train_line: \n",
      "                        label_line: Ожидайте , пожалуйста , мне необходимо уточнить информацию .\n",
      "                        \n"
     ]
    },
    {
     "name": "stderr",
     "output_type": "stream",
     "text": [
      " 11% (3446 of 29472) |##                  | Elapsed Time: 0:00:22 ETA:  0:02:46"
     ]
    },
    {
     "name": "stdout",
     "output_type": "stream",
     "text": [
      "\n",
      "                        Catch empty line:\n",
      "                        train_line: \n",
      "                        label_line: Предоставьте , пожалуйста , файл импорта на нашу почту для проверки структуры файла .\n",
      "                        \n",
      "\n",
      "                        Catch empty line:\n",
      "                        train_line: \n",
      "                        label_line: Игорь Борисович , необходимо направить сам файл импорта на указанный адрес электронной почты для проверки структуры файла импорта .\n",
      "                        \n"
     ]
    },
    {
     "name": "stderr",
     "output_type": "stream",
     "text": [
      " 13% (3851 of 29472) |##                  | Elapsed Time: 0:00:24 ETA:  0:02:41"
     ]
    },
    {
     "name": "stdout",
     "output_type": "stream",
     "text": [
      "\n",
      "                        Catch empty line:\n",
      "                        train_line: \n",
      "                        label_line: Откройте Ваше экспортированный файл из 1с в блокноте , и проверти заполненность всех полей .\n",
      "                        \n",
      "\n",
      "                        Catch empty line:\n",
      "                        train_line: \n",
      "                        label_line: Какой тип защиты Вы используете при работе со Сбербанк Бизнес Онлайн ( электронная подпись или SMS-сообщения ) ?\n",
      "                        \n"
     ]
    },
    {
     "name": "stderr",
     "output_type": "stream",
     "text": [
      " 13% (4034 of 29472) |##                  | Elapsed Time: 0:00:25 ETA:  0:02:38"
     ]
    },
    {
     "name": "stdout",
     "output_type": "stream",
     "text": [
      "\n",
      "                        Catch empty line:\n",
      "                        train_line: \n",
      "                        label_line: Сергей , рекомендую обратиться в филиал Банка по месту ведения расчетного счета для уточнения информации по письму .\n",
      "                        \n"
     ]
    },
    {
     "name": "stderr",
     "output_type": "stream",
     "text": [
      " 14% (4262 of 29472) |##                  | Elapsed Time: 0:00:26 ETA:  0:02:35"
     ]
    },
    {
     "name": "stdout",
     "output_type": "stream",
     "text": [
      "\n",
      "                        Catch empty line:\n",
      "                        train_line: \n",
      "                        label_line: Федор Михайлович , документ у Вас не загрузился ?\n",
      "                        \n",
      "\n",
      "                        Catch empty line:\n",
      "                        train_line: \n",
      "                        label_line: У Вас имеется конверт по номером 1 ?\n",
      "                        \n"
     ]
    },
    {
     "name": "stderr",
     "output_type": "stream",
     "text": [
      " 14% (4419 of 29472) |##                  | Elapsed Time: 0:00:26 ETA:  0:02:32"
     ]
    },
    {
     "name": "stdout",
     "output_type": "stream",
     "text": [
      "\n",
      "                        Catch empty line:\n",
      "                        train_line: \n",
      "                        label_line: Сим-карту недавно меняли ?\n",
      "                        \n",
      "\n",
      "                        Catch empty line:\n",
      "                        train_line: \n",
      "                        label_line: Дмитрий Вячеславович , выполните , пожалуйста , скрриншот окна с заполненными полями документа .\n",
      "                        \n"
     ]
    },
    {
     "name": "stderr",
     "output_type": "stream",
     "text": [
      " 15% (4507 of 29472) |###                 | Elapsed Time: 0:00:27 ETA:  0:02:31"
     ]
    },
    {
     "name": "stdout",
     "output_type": "stream",
     "text": [
      "\n",
      "                        Catch empty line:\n",
      "                        train_line: \n",
      "                        label_line: Уточните , пожалуйста , Вы обращаетесь как представитель юридического лица , индивидуальный предприниматель или как частный клиент ?\n",
      "                        \n",
      "\n",
      "                        Catch empty line:\n",
      "                        train_line: \n",
      "                        label_line: Вам необходимо заполнять данные поля ?\n",
      "                        \n"
     ]
    },
    {
     "name": "stderr",
     "output_type": "stream",
     "text": [
      " 15% (4572 of 29472) |###                 | Elapsed Time: 0:00:27 ETA:  0:02:29"
     ]
    },
    {
     "name": "stdout",
     "output_type": "stream",
     "text": [
      "\n",
      "                        Catch empty line:\n",
      "                        train_line: \n",
      "                        label_line: Служба технической поддержки Сбербанка , меня зовут Галина , здравствуйте !\n",
      "                        \n",
      "\n",
      "                        Catch empty line:\n",
      "                        train_line: \n",
      "                        label_line: Я рекомендую обратиться в поддержку данного плагина или Вы можете выпустить подпись для E-Invoicing стандартным способом .\n",
      "                        \n"
     ]
    },
    {
     "name": "stderr",
     "output_type": "stream",
     "text": [
      " 15% (4676 of 29472) |###                 | Elapsed Time: 0:00:27 ETA:  0:02:27"
     ]
    },
    {
     "name": "stdout",
     "output_type": "stream",
     "text": [
      "\n",
      "                        Catch empty line:\n",
      "                        train_line: \n",
      "                        label_line: Андрей Владиславович , Вам выдает ошибку по налоговым полям . Уточните какое значение проставили в поле 101 Показатель статуса ?\n",
      "                        \n",
      "\n",
      "                        Catch empty line:\n",
      "                        train_line: \n",
      "                        label_line: Олег Иванович , уточните , пожалуйста , на новом токине создавали запрос на сертификат ?\n",
      "                        \n"
     ]
    },
    {
     "name": "stderr",
     "output_type": "stream",
     "text": [
      " 16% (4848 of 29472) |###                 | Elapsed Time: 0:00:28 ETA:  0:02:25"
     ]
    },
    {
     "name": "stdout",
     "output_type": "stream",
     "text": [
      "\n",
      "                        Catch empty line:\n",
      "                        train_line: \n",
      "                        label_line: Сергей Владимирович , необходим скриншот данной ошибки .\n",
      "                        \n",
      "\n",
      "                        Catch empty line:\n",
      "                        train_line: \n",
      "                        label_line: Служба технической поддержки Сбербанка , меня зовут Олег , здравствуйте !\n",
      "                        \n"
     ]
    },
    {
     "name": "stderr",
     "output_type": "stream",
     "text": [
      " 16% (4964 of 29472) |###                 | Elapsed Time: 0:00:29 ETA:  0:02:24"
     ]
    },
    {
     "name": "stdout",
     "output_type": "stream",
     "text": [
      "\n",
      "                        Catch empty line:\n",
      "                        train_line: \n",
      "                        label_line: Юрий Гергиевич , оплату производите в МТС ?\n",
      "                        \n"
     ]
    },
    {
     "name": "stderr",
     "output_type": "stream",
     "text": [
      " 17% (5223 of 29472) |###                 | Elapsed Time: 0:00:30 ETA:  0:02:21"
     ]
    },
    {
     "name": "stdout",
     "output_type": "stream",
     "text": [
      "\n",
      "                        Catch empty line:\n",
      "                        train_line: \n",
      "                        label_line: Уточните , пожалуйста , Вы проводили какие-либо действия с sim-картой - замена , восстановление , изменение размера , смена оператора без изменения номера телефона ?\n",
      "                        \n",
      "\n",
      "                        Catch empty line:\n",
      "                        train_line: \n",
      "                        label_line: И сам файл отправьте , пожалуйста .\n",
      "                        \n",
      "\n",
      "                        Catch empty line:\n",
      "                        train_line: \n",
      "                        label_line: Сделайте скриншот экрана и отправьте , нам на электронный адрес stp @ sberbank . ru . В теме письма укажите \" ЧАТ \" . Как только отправите данный скриншот , напишите с какого адреса был отправлен .\n",
      "                        \n"
     ]
    },
    {
     "name": "stderr",
     "output_type": "stream",
     "text": [
      " 20% (5928 of 29472) |####                | Elapsed Time: 0:00:33 ETA:  0:02:07"
     ]
    },
    {
     "name": "stdout",
     "output_type": "stream",
     "text": [
      "\n",
      "                        Catch empty line:\n",
      "                        train_line: \n",
      "                        label_line: Отправьте , нам на электронный адрес stp @ sberbank . ru сам файл , который Вы импортируете . В теме письма укажите \" ЧАТ \" . Как только отправите , напишите с какого адреса был отправлен .\n",
      "                        \n"
     ]
    },
    {
     "name": "stderr",
     "output_type": "stream",
     "text": [
      " 22% (6491 of 29472) |####                | Elapsed Time: 0:00:35 ETA:  0:01:57"
     ]
    },
    {
     "name": "stdout",
     "output_type": "stream",
     "text": [
      "\n",
      "                        Catch empty line:\n",
      "                        train_line: \n",
      "                        label_line: Анна Владимировна , документ можете только подписать когда он будет в статусе \" Создан \" .\n",
      "                        \n",
      "\n",
      "                        Catch empty line:\n",
      "                        train_line: \n",
      "                        label_line: Людмила Владимировна , реестр обрабатывается в течении операционного дня . В договоре у Вас должно быть прописано наименование файла которое необходимо использовать , данные у Вас совпадают ?\n",
      "                        \n"
     ]
    },
    {
     "name": "stderr",
     "output_type": "stream",
     "text": [
      " 22% (6608 of 29472) |####                | Elapsed Time: 0:00:36 ETA:  0:01:55"
     ]
    },
    {
     "name": "stdout",
     "output_type": "stream",
     "text": [
      "\n",
      "                        Catch empty line:\n",
      "                        train_line: \n",
      "                        label_line: В решении этого вопроса Вам поможет клиентский менеджер в филиале Банка по месту обслуживания .\n",
      "                        \n"
     ]
    },
    {
     "name": "stderr",
     "output_type": "stream",
     "text": [
      " 24% (7083 of 29472) |####                | Elapsed Time: 0:00:38 ETA:  0:01:49"
     ]
    },
    {
     "name": "stdout",
     "output_type": "stream",
     "text": [
      "\n",
      "                        Catch empty line:\n",
      "                        train_line: \n",
      "                        label_line: Александр Александрович , данные по получателю у Вас заполнены ?\n",
      "                        \n"
     ]
    },
    {
     "name": "stderr",
     "output_type": "stream",
     "text": [
      " 25% (7542 of 29472) |#####               | Elapsed Time: 0:00:39 ETA:  0:01:43"
     ]
    },
    {
     "name": "stdout",
     "output_type": "stream",
     "text": [
      "\n",
      "                        Catch empty line:\n",
      "                        train_line: \n",
      "                        label_line: Ожидайте , пожалуйста , мне необходимо уточнить информацию .\n",
      "                        \n",
      "\n",
      "                        Catch empty line:\n",
      "                        train_line: \n",
      "                        label_line: Роман Петрович , данным вопросом занимается операционная поддержка , у нас не отображается информация по Вашим документам .\n",
      "                        \n"
     ]
    },
    {
     "name": "stderr",
     "output_type": "stream",
     "text": [
      " 26% (7713 of 29472) |#####               | Elapsed Time: 0:00:39 ETA:  0:01:41"
     ]
    },
    {
     "name": "stdout",
     "output_type": "stream",
     "text": [
      "\n",
      "                        Catch empty line:\n",
      "                        train_line: \n",
      "                        label_line: Служба технической поддержки Сбербанка , меня зовут Александр . Здравствуйте !\n",
      "                        \n"
     ]
    },
    {
     "name": "stderr",
     "output_type": "stream",
     "text": [
      " 28% (8357 of 29472) |#####               | Elapsed Time: 0:00:42 ETA:  0:01:34"
     ]
    },
    {
     "name": "stdout",
     "output_type": "stream",
     "text": [
      "\n",
      "                        Catch empty line:\n",
      "                        train_line: \n",
      "                        label_line: Ожидайте , пожалуйста , мне необходимо уточнить информацию .\n",
      "                        \n"
     ]
    },
    {
     "name": "stderr",
     "output_type": "stream",
     "text": [
      " 28% (8417 of 29472) |#####               | Elapsed Time: 0:00:42 ETA:  0:01:33"
     ]
    },
    {
     "name": "stdout",
     "output_type": "stream",
     "text": [
      "\n",
      "                        Catch empty line:\n",
      "                        train_line: \n",
      "                        label_line: К сожалению , это невозможно . Все клиенты Банка постепенно будут переведены на Цифровую Корпоративную Платформу ( ЦКП ) , функционал которой будет расширяться .\n",
      "                        \n",
      "\n",
      "                        Catch empty line:\n",
      "                        train_line: \n",
      "                        label_line: Служба технической поддержки Сбербанка , меня зовут Альбина , здравствуйте !\n",
      "                        \n",
      "\n",
      "                        Catch empty line:\n",
      "                        train_line: \n",
      "                        label_line: Отправьте , пожалуйста , для проверки файл импорта на адрес stp @ sberbank . ru с темой \" Чат \" .\n",
      "                        \n"
     ]
    },
    {
     "name": "stderr",
     "output_type": "stream",
     "text": [
      " 29% (8777 of 29472) |#####               | Elapsed Time: 0:00:44 ETA:  0:01:30"
     ]
    },
    {
     "name": "stdout",
     "output_type": "stream",
     "text": [
      "\n",
      "                        Catch empty line:\n",
      "                        train_line: \n",
      "                        label_line: Если в поле \" 106 \" ( основание платежа ) указано одно из значений : \" ТП \" , \" ЗД \" , \" БФ \" , то в поле \" 107 \" ( налоговый период указывается дата в формате \" МС . MM . YYYY \" , \" КВ . XX . YYYY \" , \" ПЛ . XX . YYYY \" , \" ГД . 00 . YYYY \" , которая взаимосвязана с показателем основания платежа .\n",
      "                        \n",
      "\n",
      "                        Catch empty line:\n",
      "                        train_line: \n",
      "                        label_line: Арсен , когда Вы перейдете в новом дизайне во вкладку \" Счета \" , далее \" Выписки и отчёты \" , после заполнения полей : \" Расчетный счет \" и \" Период , станет доступна ссылка \" Показать дополнительные параметры \" .\n",
      "                        \n"
     ]
    },
    {
     "name": "stderr",
     "output_type": "stream",
     "text": [
      " 30% (8952 of 29472) |######              | Elapsed Time: 0:00:44 ETA:  0:01:29"
     ]
    },
    {
     "name": "stdout",
     "output_type": "stream",
     "text": [
      "\n",
      "                        Catch empty line:\n",
      "                        train_line: \n",
      "                        label_line: Служба технической поддержки Сбербанка , меня зовут Галина , здравствуйте !\n",
      "                        \n",
      "\n",
      "                        Catch empty line:\n",
      "                        train_line: \n",
      "                        label_line: Уточните , в системе на главной странице отображается счет 40817810760075000765 ?\n",
      "                        \n"
     ]
    },
    {
     "name": "stderr",
     "output_type": "stream",
     "text": [
      " 31% (9286 of 29472) |######              | Elapsed Time: 0:00:45 ETA:  0:01:26"
     ]
    },
    {
     "name": "stdout",
     "output_type": "stream",
     "text": [
      "\n",
      "                        Catch empty line:\n",
      "                        train_line: \n",
      "                        label_line: Выполните , пожалуйста , скрншот окна с ошибкой . Скриншот раздела \" Электронные подписи \" и раздела \" Компания \" .\n",
      "                        \n"
     ]
    },
    {
     "name": "stderr",
     "output_type": "stream",
     "text": [
      " 32% (9626 of 29472) |######              | Elapsed Time: 0:00:46 ETA:  0:01:22"
     ]
    },
    {
     "name": "stdout",
     "output_type": "stream",
     "text": [
      "\n",
      "                        Catch empty line:\n",
      "                        train_line: \n",
      "                        label_line: Уточняю информацию , пожалуйста , ожидайте .\n",
      "                        \n"
     ]
    },
    {
     "name": "stderr",
     "output_type": "stream",
     "text": [
      " 33% (9950 of 29472) |######              | Elapsed Time: 0:00:47 ETA:  0:01:19"
     ]
    },
    {
     "name": "stdout",
     "output_type": "stream",
     "text": [
      "\n",
      "                        Catch empty line:\n",
      "                        train_line: \n",
      "                        label_line: Служба технической поддержки Сбербанка , меня зовут Матвей , здравствуйте !\n",
      "                        \n",
      "\n",
      "                        Catch empty line:\n",
      "                        train_line: \n",
      "                        label_line: Служба технической поддержки Сбербанка , меня зовут Елена , здравствуйте !\n",
      "                        \n",
      "\n",
      "                        Catch empty line:\n",
      "                        train_line: \n",
      "                        label_line: Уточните , пожалуйста , у Вас есть номер электронного файла , отправленного из налоговой инспекции в Банк об отмене ограничений ? Номер файла начинается с латинских букв ROO .\n",
      "                        \n",
      "\n",
      "                        Catch empty line:\n",
      "                        train_line: \n",
      "                        label_line: Для проверки снятия ограничений необходим номер электронного файла , отправленного из налоговой инспекции в Банк об отмене ограничений .\n",
      "                        \n"
     ]
    },
    {
     "name": "stderr",
     "output_type": "stream",
     "text": [
      " 34% (10286 of 29472) |######             | Elapsed Time: 0:00:48 ETA:  0:01:16"
     ]
    },
    {
     "name": "stdout",
     "output_type": "stream",
     "text": [
      "\n",
      "                        Catch empty line:\n",
      "                        train_line: \n",
      "                        label_line: Георгий , если в поле 106 указано одно из значений : ТП , ЗД , БФ , то в поле 107 указывается дата в формате « МС . MM . YYYY » , « КВ . XX . YYYY » , « ПЛ . XX . YYYY » , « ГД . 00 . YYYY » , которая взаимосвязана с показателем основания платежа ( 10 символов ) .\n",
      "                        \n"
     ]
    },
    {
     "name": "stderr",
     "output_type": "stream",
     "text": [
      " 36% (10776 of 29472) |######             | Elapsed Time: 0:00:50 ETA:  0:01:13"
     ]
    },
    {
     "name": "stdout",
     "output_type": "stream",
     "text": [
      "\n",
      "                        Catch empty line:\n",
      "                        train_line: \n",
      "                        label_line: В данном случае Вам необходимо будет проверить документ в зарплатном проекте и затем уже подписать и отправить в банк на обработку .\n",
      "                        \n"
     ]
    },
    {
     "name": "stderr",
     "output_type": "stream",
     "text": [
      " 38% (11344 of 29472) |#######            | Elapsed Time: 0:00:52 ETA:  0:01:09"
     ]
    },
    {
     "name": "stdout",
     "output_type": "stream",
     "text": [
      "\n",
      "                        Catch empty line:\n",
      "                        train_line: \n",
      "                        label_line: Спасибо за ожидание .\n",
      "                        \n"
     ]
    },
    {
     "name": "stderr",
     "output_type": "stream",
     "text": [
      " 39% (11593 of 29472) |#######            | Elapsed Time: 0:00:52 ETA:  0:01:07"
     ]
    },
    {
     "name": "stdout",
     "output_type": "stream",
     "text": [
      "\n",
      "                        Catch empty line:\n",
      "                        train_line: \n",
      "                        label_line: У Вас не происходила именно смена сим-карты без смены номера телефона ?\n",
      "                        \n",
      "\n",
      "                        Catch empty line:\n",
      "                        train_line: \n",
      "                        label_line: Данное сообщение означает что в файле допущена ошибка .\n",
      "                        \n"
     ]
    },
    {
     "name": "stderr",
     "output_type": "stream",
     "text": [
      " 41% (12089 of 29472) |#######            | Elapsed Time: 0:00:54 ETA:  0:01:04"
     ]
    },
    {
     "name": "stdout",
     "output_type": "stream",
     "text": [
      "\n",
      "                        Catch empty line:\n",
      "                        train_line: \n",
      "                        label_line: Вячеслав Николаевич , при импорте какой шаблон Вы выбираете уточните , пожалуйста .\n",
      "                        \n",
      "\n",
      "                        Catch empty line:\n",
      "                        train_line: \n",
      "                        label_line: Спасибо за ожидание , Елена Ивановна , в данном случае Вы можете направить в банк письмо об уточнении реквизитов и указать корректный месяц .\n",
      "                        \n"
     ]
    },
    {
     "name": "stderr",
     "output_type": "stream",
     "text": [
      " 41% (12254 of 29472) |#######            | Elapsed Time: 0:00:55 ETA:  0:01:03"
     ]
    },
    {
     "name": "stdout",
     "output_type": "stream",
     "text": [
      "\n",
      "                        Catch empty line:\n",
      "                        train_line: \n",
      "                        label_line: Основания платежа , что ставите ?\n",
      "                        \n"
     ]
    },
    {
     "name": "stderr",
     "output_type": "stream",
     "text": [
      " 42% (12608 of 29472) |########           | Elapsed Time: 0:00:56 ETA:  0:01:00"
     ]
    },
    {
     "name": "stdout",
     "output_type": "stream",
     "text": [
      "\n",
      "                        Catch empty line:\n",
      "                        train_line: \n",
      "                        label_line: Антон Сергеевич , к сожалению времени обработки в службу Технической программы не предоставлено .\n",
      "                        \n"
     ]
    },
    {
     "name": "stderr",
     "output_type": "stream",
     "text": [
      " 44% (13058 of 29472) |########           | Elapsed Time: 0:00:57 ETA:  0:00:57"
     ]
    },
    {
     "name": "stdout",
     "output_type": "stream",
     "text": [
      "\n",
      "                        Catch empty line:\n",
      "                        train_line: \n",
      "                        label_line: Елена Анатольевна , данные поля заполнены ?\n",
      "                        \n"
     ]
    },
    {
     "name": "stderr",
     "output_type": "stream",
     "text": [
      " 45% (13290 of 29472) |########           | Elapsed Time: 0:00:58 ETA:  0:00:56"
     ]
    },
    {
     "name": "stdout",
     "output_type": "stream",
     "text": [
      "\n",
      "                        Catch empty line:\n",
      "                        train_line: \n",
      "                        label_line: Уточните , пожалуйста , в какой версии программы Вы сейчас работаете ( новый дизайн или старый дизайн - есть раздел \" Услуги \" в левой части экрана ) ?\n",
      "                        \n"
     ]
    },
    {
     "name": "stderr",
     "output_type": "stream",
     "text": [
      " 46% (13804 of 29472) |########           | Elapsed Time: 0:00:59 ETA:  0:00:54"
     ]
    },
    {
     "name": "stdout",
     "output_type": "stream",
     "text": [
      "\n",
      "                        Catch empty line:\n",
      "                        train_line: \n",
      "                        label_line: Служба технической поддержки Сбербанка , меня зовут Ирина . Здравствуйте !\n",
      "                        \n"
     ]
    },
    {
     "name": "stderr",
     "output_type": "stream",
     "text": [
      " 47% (13953 of 29472) |########           | Elapsed Time: 0:01:00 ETA:  0:00:53"
     ]
    },
    {
     "name": "stdout",
     "output_type": "stream",
     "text": [
      "\n",
      "                        Catch empty line:\n",
      "                        train_line: \n",
      "                        label_line: Необходимо именно скриншот .\n",
      "                        \n"
     ]
    },
    {
     "name": "stderr",
     "output_type": "stream",
     "text": [
      " 48% (14418 of 29472) |#########          | Elapsed Time: 0:01:01 ETA:  0:00:50"
     ]
    },
    {
     "name": "stdout",
     "output_type": "stream",
     "text": [
      "\n",
      "                        Catch empty line:\n",
      "                        train_line: \n",
      "                        label_line: Вы оплачиваете в бюджетную организацию ?\n",
      "                        \n"
     ]
    },
    {
     "name": "stderr",
     "output_type": "stream",
     "text": [
      " 49% (14548 of 29472) |#########          | Elapsed Time: 0:01:01 ETA:  0:00:49"
     ]
    },
    {
     "name": "stdout",
     "output_type": "stream",
     "text": [
      "\n",
      "                        Catch empty line:\n",
      "                        train_line: \n",
      "                        label_line: Если указан бюджетный счет получателя или счет соответствующий формату ГИС ГМП ( Государственная информационная система о государственных и муниципальных платежах ) , то программа запрашивает заполнение данных полей ( поля 101 - 109 ) .\n",
      "                        \n"
     ]
    },
    {
     "name": "stderr",
     "output_type": "stream",
     "text": [
      " 51% (15132 of 29472) |#########          | Elapsed Time: 0:01:03 ETA:  0:00:46"
     ]
    },
    {
     "name": "stdout",
     "output_type": "stream",
     "text": [
      "\n",
      "                        Catch empty line:\n",
      "                        train_line: \n",
      "                        label_line: Эти данные находятся в квитанции . Если их нет или не видите обратитесь в ЖКХ . Они помогут .\n",
      "                        \n"
     ]
    },
    {
     "name": "stderr",
     "output_type": "stream",
     "text": [
      " 52% (15575 of 29472) |##########         | Elapsed Time: 0:01:04 ETA:  0:00:44"
     ]
    },
    {
     "name": "stdout",
     "output_type": "stream",
     "text": [
      "\n",
      "                        Catch empty line:\n",
      "                        train_line: \n",
      "                        label_line: Владимир Яковлевич , данное сообщение означает , что изменились реквизиты . Уточните , пожалуйста их у получателя .\n",
      "                        \n"
     ]
    },
    {
     "name": "stderr",
     "output_type": "stream",
     "text": [
      " 53% (15815 of 29472) |##########         | Elapsed Time: 0:01:04 ETA:  0:00:43"
     ]
    },
    {
     "name": "stdout",
     "output_type": "stream",
     "text": [
      "\n",
      "                        Catch empty line:\n",
      "                        train_line: \n",
      "                        label_line: Сколько подписей у Вас в системе ?\n",
      "                        \n"
     ]
    },
    {
     "name": "stderr",
     "output_type": "stream",
     "text": [
      " 56% (16601 of 29472) |##########         | Elapsed Time: 0:01:07 ETA:  0:00:40"
     ]
    },
    {
     "name": "stdout",
     "output_type": "stream",
     "text": [
      "\n",
      "                        Catch empty line:\n",
      "                        train_line: \n",
      "                        label_line: В правом верхнем углу у Вас имеется поле \" Показатель статуса \" . Выберите здесь значение 08 . Затем в налоговых полях \" КБК \" , \" ОКТМО \" , \" Основание платежа \" , \" Налоговый период \" , \" Номер документа \" , \" Дата документа \" и \" Код \" проставьте 0 .\n",
      "                        \n"
     ]
    },
    {
     "name": "stderr",
     "output_type": "stream",
     "text": [
      " 61% (18024 of 29472) |###########        | Elapsed Time: 0:01:11 ETA:  0:00:34"
     ]
    },
    {
     "name": "stdout",
     "output_type": "stream",
     "text": [
      "\n",
      "                        Catch empty line:\n",
      "                        train_line: \n",
      "                        label_line: Списание документа , который находится в промежуточном статусе \" Картотека № 2 \" произойдет автоматически , необходимо дождаться конечного статуса . Документ , который находится в конечном статусе \" Отказан АБС \" необходимо отправить повторно для его обработки .\n",
      "                        \n"
     ]
    },
    {
     "name": "stderr",
     "output_type": "stream",
     "text": [
      " 64% (18881 of 29472) |############       | Elapsed Time: 0:01:13 ETA:  0:00:31"
     ]
    },
    {
     "name": "stdout",
     "output_type": "stream",
     "text": [
      "\n",
      "                        Catch empty line:\n",
      "                        train_line: \n",
      "                        label_line: Уточните , пожалуйста , у Вас есть номер электронного файла , отправленного из налоговой инспекции в Банк об отмене ограничений ? Номер файла начинается с латинских букв ROO .\n",
      "                        \n"
     ]
    },
    {
     "name": "stderr",
     "output_type": "stream",
     "text": [
      " 65% (19233 of 29472) |############       | Elapsed Time: 0:01:13 ETA:  0:00:29"
     ]
    },
    {
     "name": "stdout",
     "output_type": "stream",
     "text": [
      "\n",
      "                        Catch empty line:\n",
      "                        train_line: \n",
      "                        label_line: Служба технической поддержки Сбербанка , меня зовут Александр . Здравствуйте !\n",
      "                        \n"
     ]
    },
    {
     "name": "stderr",
     "output_type": "stream",
     "text": [
      " 67% (19806 of 29472) |############       | Elapsed Time: 0:01:15 ETA:  0:00:27"
     ]
    },
    {
     "name": "stdout",
     "output_type": "stream",
     "text": [
      "\n",
      "                        Catch empty line:\n",
      "                        train_line: \n",
      "                        label_line: Возврат средств выполняется в среднем 5 дней .\n",
      "                        \n",
      "\n",
      "                        Catch empty line:\n",
      "                        train_line: \n",
      "                        label_line: Теперь вам необходимо данные платёжные поручения отправить в Банк для обработки . Вы их не отправили в Банк , поэтому ваши платёжные поручения не исполнены .\n",
      "                        \n"
     ]
    },
    {
     "name": "stderr",
     "output_type": "stream",
     "text": [
      " 69% (20442 of 29472) |#############      | Elapsed Time: 0:01:17 ETA:  0:00:25"
     ]
    },
    {
     "name": "stdout",
     "output_type": "stream",
     "text": [
      "\n",
      "                        Catch empty line:\n",
      "                        train_line: \n",
      "                        label_line: Сергей Петрович , сколько сотрудников в организации у Вас имеют право подписи ?\n",
      "                        \n"
     ]
    },
    {
     "name": "stderr",
     "output_type": "stream",
     "text": [
      " 71% (21065 of 29472) |#############      | Elapsed Time: 0:01:18 ETA:  0:00:23"
     ]
    },
    {
     "name": "stdout",
     "output_type": "stream",
     "text": [
      "\n",
      "                        Catch empty line:\n",
      "                        train_line: \n",
      "                        label_line: Семён Сергеевич , если у Вас одна учетная запись необходимо предоставить заявление в обслуживающее отделение банка .\n",
      "                        \n"
     ]
    },
    {
     "name": "stderr",
     "output_type": "stream",
     "text": [
      " 72% (21265 of 29472) |#############      | Elapsed Time: 0:01:19 ETA:  0:00:22"
     ]
    },
    {
     "name": "stdout",
     "output_type": "stream",
     "text": [
      "\n",
      "                        Catch empty line:\n",
      "                        train_line: \n",
      "                        label_line: Елена Александровна , уточните , пожалуйста , в каком статусе находится Ваш реестр ?\n",
      "                        \n",
      "\n",
      "                        Catch empty line:\n",
      "                        train_line: \n",
      "                        label_line: Елена Александровна , сформируйте , пожалуйста , скриншот журнала импорта , а также необходим сам файл .\n",
      "                        \n"
     ]
    },
    {
     "name": "stderr",
     "output_type": "stream",
     "text": [
      " 72% (21489 of 29472) |#############      | Elapsed Time: 0:01:19 ETA:  0:00:21"
     ]
    },
    {
     "name": "stdout",
     "output_type": "stream",
     "text": [
      "\n",
      "                        Catch empty line:\n",
      "                        train_line: \n",
      "                        label_line: Ожидайте , пожалуйста , мне необходимо уточнить информацию .\n",
      "                        \n",
      "\n",
      "                        Catch empty line:\n",
      "                        train_line: \n",
      "                        label_line: Служба технической поддержки Сбербанка , меня зовут Ирина . Здравствуйте !\n",
      "                        \n"
     ]
    },
    {
     "name": "stderr",
     "output_type": "stream",
     "text": [
      " 74% (21906 of 29472) |##############     | Elapsed Time: 0:01:20 ETA:  0:00:20"
     ]
    },
    {
     "name": "stdout",
     "output_type": "stream",
     "text": [
      "\n",
      "                        Catch empty line:\n",
      "                        train_line: \n",
      "                        label_line: Служба технической поддержки Сбербанка , меня зовут Альбина , здравствуйте !\n",
      "                        \n"
     ]
    },
    {
     "name": "stderr",
     "output_type": "stream",
     "text": [
      " 78% (23124 of 29472) |##############     | Elapsed Time: 0:01:23 ETA:  0:00:17"
     ]
    },
    {
     "name": "stdout",
     "output_type": "stream",
     "text": [
      "\n",
      "                        Catch empty line:\n",
      "                        train_line: \n",
      "                        label_line: Анастасия Викторовна , Вам необходимо указать расчетный счет получателя и БИК Банка получателя , после выбрать значение в поле \" Показатель статуса \" . Поля налогового периода станут активны .\n",
      "                        \n"
     ]
    },
    {
     "name": "stderr",
     "output_type": "stream",
     "text": [
      " 82% (24364 of 29472) |###############    | Elapsed Time: 0:01:26 ETA:  0:00:13"
     ]
    },
    {
     "name": "stdout",
     "output_type": "stream",
     "text": [
      "\n",
      "                        Catch empty line:\n",
      "                        train_line: \n",
      "                        label_line: Ожидайте , пожалуйста , мне необходимо уточнить информацию .\n",
      "                        \n"
     ]
    },
    {
     "name": "stderr",
     "output_type": "stream",
     "text": [
      " 83% (24747 of 29472) |###############    | Elapsed Time: 0:01:27 ETA:  0:00:12"
     ]
    },
    {
     "name": "stdout",
     "output_type": "stream",
     "text": [
      "\n",
      "                        Catch empty line:\n",
      "                        train_line: \n",
      "                        label_line: В таком случае мне необходимо выставить запрос на специалистов . Мне потребуются от Вас данные по организации : ИНН , наименование , отделение банка в котором обслуживаетесь , ФИО учетной записи , № и дата отказанного документа , тип работы ( токен или смс ) , номер телефона для связи .\n",
      "                        \n"
     ]
    },
    {
     "name": "stderr",
     "output_type": "stream",
     "text": [
      " 88% (26002 of 29472) |################   | Elapsed Time: 0:01:30 ETA:  0:00:08"
     ]
    },
    {
     "name": "stdout",
     "output_type": "stream",
     "text": [
      "\n",
      "                        Catch empty line:\n",
      "                        train_line: \n",
      "                        label_line: Служба технической поддержки Сбербанка , меня зовут Надежда . Здравствуйте !\n",
      "                        \n"
     ]
    },
    {
     "name": "stderr",
     "output_type": "stream",
     "text": [
      " 94% (27731 of 29472) |#################  | Elapsed Time: 0:01:33 ETA:  0:00:04"
     ]
    },
    {
     "name": "stdout",
     "output_type": "stream",
     "text": [
      "\n",
      "                        Catch empty line:\n",
      "                        train_line: \n",
      "                        label_line: Служба технической поддержки Сбербанка , меня зовут Надежда . Здравствуйте !\n",
      "                        \n"
     ]
    },
    {
     "name": "stderr",
     "output_type": "stream",
     "text": [
      " 99% (29453 of 29472) |################## | Elapsed Time: 0:01:37 ETA:  0:00:00"
     ]
    },
    {
     "name": "stdout",
     "output_type": "stream",
     "text": [
      "\n",
      "                        Catch empty line:\n",
      "                        train_line: \n",
      "                        label_line: Служба технической поддержки Сбербанка , меня зовут Оксана . Здравствуйте !\n",
      "                        \n"
     ]
    },
    {
     "name": "stderr",
     "output_type": "stream",
     "text": [
      "100% (29472 of 29472) |###################| Elapsed Time: 0:01:37 Time: 0:01:37\n",
      " 11% (89 of 776) |##                      | Elapsed Time: 0:00:00 ETA:  0:00:03"
     ]
    },
    {
     "name": "stdout",
     "output_type": "stream",
     "text": [
      "\n",
      "                        Catch empty line:\n",
      "                        train_line: \n",
      "                        label_line: Все пожелания по новому дизайну я передам разработчикам системы . Спасибо за информацию .\n",
      "                        \n"
     ]
    },
    {
     "name": "stderr",
     "output_type": "stream",
     "text": [
      " 38% (295 of 776) |########               | Elapsed Time: 0:00:01 ETA:  0:00:01"
     ]
    },
    {
     "name": "stdout",
     "output_type": "stream",
     "text": [
      "\n",
      "                        Catch empty line:\n",
      "                        train_line: \n",
      "                        label_line: Служба технической поддержки Сбербанка , меня зовут Александр . Здравствуйте !\n",
      "                        \n"
     ]
    },
    {
     "name": "stderr",
     "output_type": "stream",
     "text": [
      " 54% (423 of 776) |############           | Elapsed Time: 0:00:01 ETA:  0:00:01"
     ]
    },
    {
     "name": "stdout",
     "output_type": "stream",
     "text": [
      "\n",
      "                        Catch empty line:\n",
      "                        train_line: \n",
      "                        label_line: Валерий Вячеславович , уточните пожалуйста , абонентом какого сотового оператора Вы являетесь ?\n",
      "                        \n"
     ]
    },
    {
     "name": "stderr",
     "output_type": "stream",
     "text": [
      "100% (776 of 776) |#######################| Elapsed Time: 0:00:02 Time: 0:00:02\n",
      "  6% (50 of 776) |#                       | Elapsed Time: 0:00:00 ETA:  0:00:07"
     ]
    },
    {
     "name": "stdout",
     "output_type": "stream",
     "text": [
      "\n",
      "                        Catch empty line:\n",
      "                        train_line: \n",
      "                        label_line: Уточните , пожалуйста , при заполнении платежного поручения возникает какая-либо ошибка ?\n",
      "                        \n"
     ]
    },
    {
     "name": "stderr",
     "output_type": "stream",
     "text": [
      " 44% (344 of 776) |##########             | Elapsed Time: 0:00:01 ETA:  0:00:01"
     ]
    },
    {
     "name": "stdout",
     "output_type": "stream",
     "text": [
      "\n",
      "                        Catch empty line:\n",
      "                        train_line: \n",
      "                        label_line: Вам лимиты необходимо проставить ?\n",
      "                        \n"
     ]
    },
    {
     "name": "stderr",
     "output_type": "stream",
     "text": [
      "100% (776 of 776) |#######################| Elapsed Time: 0:00:02 Time: 0:00:02\n",
      "  0% (46 of 31024) |                      | Elapsed Time: 0:00:00 ETA:  0:07:07"
     ]
    },
    {
     "name": "stdout",
     "output_type": "stream",
     "text": [
      "\n",
      "                        Catch empty line:\n",
      "                        train_line: \n",
      "                        label_line: Вы вошли обратно в систему ?\n",
      "                        \n",
      "\n",
      "                        Catch empty line:\n",
      "                        train_line: \n",
      "                        label_line: Спасибо за ожидание , уточнила информацию по Вашему вопросу .\n",
      "                        \n"
     ]
    },
    {
     "name": "stderr",
     "output_type": "stream",
     "text": [
      "  0% (86 of 31024) |                      | Elapsed Time: 0:00:01 ETA:  0:06:19"
     ]
    },
    {
     "name": "stdout",
     "output_type": "stream",
     "text": [
      "\n",
      "                        Catch empty line:\n",
      "                        train_line: \n",
      "                        label_line: Вы можете оставить жалобу на работу программы на Линии качества по телефону 8-800-555-57-77 по кнопке \" 3 \" или на сайте sberbank . ru в разделе \" Обратная связь \" , далее нажмите \" Напишите нам \" и в разделе \" Укажите , с чем связано Ваше обращение \" выбрать \" Качество обслуживания \" .\n",
      "                        \n"
     ]
    },
    {
     "name": "stderr",
     "output_type": "stream",
     "text": [
      "  0% (118 of 31024) |                     | Elapsed Time: 0:00:01 ETA:  0:06:31"
     ]
    },
    {
     "name": "stdout",
     "output_type": "stream",
     "text": [
      "\n",
      "                        Catch empty line:\n",
      "                        train_line: \n",
      "                        label_line: Уточните , пожалуйста , что Вы указали в поле 106 \" Основание платежа \" ?\n",
      "                        \n",
      "\n",
      "                        Catch empty line:\n",
      "                        train_line: \n",
      "                        label_line: Если бы было несколько пользователей , то заявление можно направить электронно . В данном случае такая возможность отсутствует .\n",
      "                        \n",
      "\n",
      "                        Catch empty line:\n",
      "                        train_line: \n",
      "                        label_line: Вам поступило письмо из Банка , верно ?\n",
      "                        \n",
      "\n",
      "                        Catch empty line:\n",
      "                        train_line: \n",
      "                        label_line: Виктория Валерьевна , данную информацию необходимо прописать именно в назначении платежа .\n",
      "                        \n"
     ]
    },
    {
     "name": "stderr",
     "output_type": "stream",
     "text": [
      "  0% (217 of 31024) |                     | Elapsed Time: 0:00:02 ETA:  0:06:36"
     ]
    },
    {
     "name": "stdout",
     "output_type": "stream",
     "text": [
      "\n",
      "                        Catch empty line:\n",
      "                        train_line: \n",
      "                        label_line: Мария Алексеевна , при создании заявки на выпуск электронной подписи , Вам необходимо загрузить скан копии нового паспорта , СНИЛС с измененными данными .\n",
      "                        \n",
      "\n",
      "                        Catch empty line:\n",
      "                        train_line: \n",
      "                        label_line: Служба технической поддержки Сбербанка , меня зовут Анастасия . Здравствуйте !\n",
      "                        \n"
     ]
    },
    {
     "name": "stderr",
     "output_type": "stream",
     "text": [
      "  1% (327 of 31024) |                     | Elapsed Time: 0:00:03 ETA:  0:06:11"
     ]
    },
    {
     "name": "stdout",
     "output_type": "stream",
     "text": [
      "\n",
      "                        Catch empty line:\n",
      "                        train_line: \n",
      "                        label_line: У Вас платеж в бюджет ?\n",
      "                        \n",
      "\n",
      "                        Catch empty line:\n",
      "                        train_line: \n",
      "                        label_line: У Вас в системе одна подпись ?\n",
      "                        \n"
     ]
    },
    {
     "name": "stderr",
     "output_type": "stream",
     "text": [
      "  1% (366 of 31024) |                     | Elapsed Time: 0:00:04 ETA:  0:06:07"
     ]
    },
    {
     "name": "stdout",
     "output_type": "stream",
     "text": [
      "\n",
      "                        Catch empty line:\n",
      "                        train_line: \n",
      "                        label_line: В новом дизайне файлы называются данном образом . Переименовать Вы можете только вручную . Попробуйте экспортировать повторно выписки .\n",
      "                        \n",
      "\n",
      "                        Catch empty line:\n",
      "                        train_line: \n",
      "                        label_line: Отправляйте весь файл и скриншоты пошаговые где видно что , Вы проставляете период .\n",
      "                        \n",
      "\n",
      "                        Catch empty line:\n",
      "                        train_line: \n",
      "                        label_line: На почту Вы отправили скриншоты и файл ? Т . к . мне необходимо выставить запрос для детальной проверки мне понадобятся эти файлы .\n",
      "                        \n"
     ]
    },
    {
     "name": "stderr",
     "output_type": "stream",
     "text": [
      "  1% (393 of 31024) |                     | Elapsed Time: 0:00:04 ETA:  0:06:03"
     ]
    },
    {
     "name": "stdout",
     "output_type": "stream",
     "text": [
      "\n",
      "                        Catch empty line:\n",
      "                        train_line: \n",
      "                        label_line: Уточните , пожалуйста , у Вас остался номер обращения в нашу службу технической поддержки ?\n",
      "                        \n"
     ]
    },
    {
     "name": "stderr",
     "output_type": "stream",
     "text": [
      "  1% (502 of 31024) |                     | Elapsed Time: 0:00:05 ETA:  0:05:41"
     ]
    },
    {
     "name": "stdout",
     "output_type": "stream",
     "text": [
      "\n",
      "                        Catch empty line:\n",
      "                        train_line: \n",
      "                        label_line: Компонент Сфера у Вас установлен на компьютер ? В программах Вы смотрели ?\n",
      "                        \n"
     ]
    },
    {
     "name": "stderr",
     "output_type": "stream",
     "text": [
      "  1% (564 of 31024) |                     | Elapsed Time: 0:00:06 ETA:  0:05:25"
     ]
    },
    {
     "name": "stdout",
     "output_type": "stream",
     "text": [
      "\n",
      "                        Catch empty line:\n",
      "                        train_line: \n",
      "                        label_line: С этим соглашусь .\n",
      "                        \n",
      "\n",
      "                        Catch empty line:\n",
      "                        train_line: \n",
      "                        label_line: Я вас понял , сейчас выставлю запрос на специалистов , после чего вас уведомлю , ожидайте пожалуйста\n",
      "                        \n"
     ]
    },
    {
     "name": "stderr",
     "output_type": "stream",
     "text": [
      "  1% (613 of 31024) |                     | Elapsed Time: 0:00:06 ETA:  0:05:14"
     ]
    },
    {
     "name": "stdout",
     "output_type": "stream",
     "text": [
      "\n",
      "                        Catch empty line:\n",
      "                        train_line: \n",
      "                        label_line: Максим Геннадьевич , мне потребуется время для уточнения данной информации .\n",
      "                        \n",
      "\n",
      "                        Catch empty line:\n",
      "                        train_line: \n",
      "                        label_line: Обновлении произошло на стороне 1С .\n",
      "                        \n",
      "\n",
      "                        Catch empty line:\n",
      "                        train_line:  <COR_START> Добрый день ! <COR_START> <PAUSE> <COR_START> я просто хочу проверить чат Ты мне хоть точки пиши периодически <COR_START> <PAUSE> <COR_START> спасибо <COR_START> да , конечно мы хотим сделать чат лучше : - ) <COR_START> <PAUSE> <COR_START> <PAUSE> <COR_START> да <COR_START> лучше 4 : - ) <COR_START> Тогда 7 : - ) <MAN_START> Оно больше ) <COR_START> <PAUSE> <MAN_START> . <COR_START> <PAUSE>\n",
      "                        label_line: \n",
      "                        \n"
     ]
    },
    {
     "name": "stderr",
     "output_type": "stream",
     "text": [
      "  2% (662 of 31024) |                     | Elapsed Time: 0:00:06 ETA:  0:05:04"
     ]
    },
    {
     "name": "stdout",
     "output_type": "stream",
     "text": [
      "\n",
      "                        Catch empty line:\n",
      "                        train_line: \n",
      "                        label_line: Спасибо за ожидание . Я уточнила для Вас информацию .\n",
      "                        \n",
      "\n",
      "                        Catch empty line:\n",
      "                        train_line: \n",
      "                        label_line: Данное сообщение появилось , если у Вас изменился международный идентификатор мобильного абонента .\n",
      "                        \n",
      "\n",
      "                        Catch empty line:\n",
      "                        train_line: \n",
      "                        label_line: Поняла Вас .\n",
      "                        \n"
     ]
    },
    {
     "name": "stderr",
     "output_type": "stream",
     "text": [
      "  2% (725 of 31024) |                     | Elapsed Time: 0:00:07 ETA:  0:04:59"
     ]
    },
    {
     "name": "stdout",
     "output_type": "stream",
     "text": [
      "\n",
      "                        Catch empty line:\n",
      "                        train_line: \n",
      "                        label_line: Служба технической поддержки Сбербанка , меня зовут Алёна . Здравствуйте !\n",
      "                        \n",
      "\n",
      "                        Catch empty line:\n",
      "                        train_line: \n",
      "                        label_line: Владимир Викторович , необходимо выбрать 1С .\n",
      "                        \n"
     ]
    },
    {
     "name": "stderr",
     "output_type": "stream",
     "text": [
      "  2% (822 of 31024) |                     | Elapsed Time: 0:00:07 ETA:  0:04:50"
     ]
    },
    {
     "name": "stdout",
     "output_type": "stream",
     "text": [
      "\n",
      "                        Catch empty line:\n",
      "                        train_line: \n",
      "                        label_line: Михаил , при отправке платежного поручения в бюджет Вам необходимо в правом верхнем углу выбрать показатель статуса , затем заполнить поля \" КБК \" , \" ОКТМО \" и поля налогового периода .\n",
      "                        \n"
     ]
    },
    {
     "name": "stderr",
     "output_type": "stream",
     "text": [
      "  3% (955 of 31024) |                     | Elapsed Time: 0:00:08 ETA:  0:04:42"
     ]
    },
    {
     "name": "stdout",
     "output_type": "stream",
     "text": [
      "\n",
      "                        Catch empty line:\n",
      "                        train_line: \n",
      "                        label_line: Удалите , пожалуйста , ссылку http : / / www . w3 . org / 2001 / XMLSchema & quot ; xmlns : xsi =& quot ; http : / / www . w3 . org / 2001 / XMLSchema-instance . Сохраните изменения и повторите импорт .\n",
      "                        \n",
      "\n",
      "                        Catch empty line:\n",
      "                        train_line: \n",
      "                        label_line: Служба технической поддержки Сбербанка , меня зовут Алина , здравствуйте !\n",
      "                        \n"
     ]
    },
    {
     "name": "stderr",
     "output_type": "stream",
     "text": [
      "  3% (1149 of 31024) |                    | Elapsed Time: 0:00:10 ETA:  0:04:30"
     ]
    },
    {
     "name": "stdout",
     "output_type": "stream",
     "text": [
      "\n",
      "                        Catch empty line:\n",
      "                        train_line: \n",
      "                        label_line: Если у Вас тип работы смс , то ничего не нужно создавать .\n",
      "                        \n",
      "\n",
      "                        Catch empty line:\n",
      "                        train_line: \n",
      "                        label_line: Елена Олеговна , необходимо проверять корректность заполнения документа . Вам на адрес электронной почты я могу отправить шаблон файла и инструкцию по загрузке реестров на карты . Вам будет это удобно ?\n",
      "                        \n"
     ]
    },
    {
     "name": "stderr",
     "output_type": "stream",
     "text": [
      "  3% (1230 of 31024) |                    | Elapsed Time: 0:00:10 ETA:  0:04:25"
     ]
    },
    {
     "name": "stdout",
     "output_type": "stream",
     "text": [
      "\n",
      "                        Catch empty line:\n",
      "                        train_line: \n",
      "                        label_line: Уточните , пожалуйста , логин и ФИО учетной записи .\n",
      "                        \n",
      "\n",
      "                        Catch empty line:\n",
      "                        train_line: \n",
      "                        label_line: Его не требуется записывать . Сертификат на другого пользователя хранится на другом токене . Вы можете прислать нам скриншот данного раздела и раздела \" Запрос на новый сертификат \" ?\n",
      "                        \n"
     ]
    },
    {
     "name": "stderr",
     "output_type": "stream",
     "text": [
      "  4% (1338 of 31024) |                    | Elapsed Time: 0:00:11 ETA:  0:04:16"
     ]
    },
    {
     "name": "stdout",
     "output_type": "stream",
     "text": [
      "\n",
      "                        Catch empty line:\n",
      "                        train_line: \n",
      "                        label_line: Уточните , пожалуйста , при заполнении платежного поручения возникает какая-либо ошибка ?\n",
      "                        \n"
     ]
    },
    {
     "name": "stderr",
     "output_type": "stream",
     "text": [
      "  4% (1411 of 31024) |                    | Elapsed Time: 0:00:11 ETA:  0:04:11"
     ]
    },
    {
     "name": "stdout",
     "output_type": "stream",
     "text": [
      "\n",
      "                        Catch empty line:\n",
      "                        train_line: \n",
      "                        label_line: Владимир Леонидович , какой вопрос у Вас изначально возник ?\n",
      "                        \n",
      "\n",
      "                        Catch empty line:\n",
      "                        train_line: \n",
      "                        label_line: Служба технической поддержки Сбербанка , меня зовут Валерия , здравствуйте !\n",
      "                        \n"
     ]
    },
    {
     "name": "stderr",
     "output_type": "stream",
     "text": [
      "  4% (1517 of 31024) |                    | Elapsed Time: 0:00:12 ETA:  0:04:02"
     ]
    },
    {
     "name": "stdout",
     "output_type": "stream",
     "text": [
      "\n",
      "                        Catch empty line:\n",
      "                        train_line: \n",
      "                        label_line: Указанная Вами ссылка относится к файлу , сохранённому у Вас на компьютере . В решении Вашего вопроса о причине отказа в проведении платежного поручения Вам поможет сотрудник Службы операционной поддержки . Вам нужно обратиться по номеру 8-800-555-57-77 , в тональном режиме выбрать \" 6 \" . Режим работы с 9-00 до 18-00 по местному времени ежедневно . Обращаю Ваше внимание , в целях соблюдения Банком правил конфиденциальности сотрудник запросит уточняющую информацию : 1 ) Наименование и ИНН организации ; 2 ) 5 последних цифр расчетного счета ; 3 ) Фамилию , Имя , Отчество ; 4 ) Паспортные данные ( серия , номер и дата выдачи ) ; 5 ) Одну из трех последних клиентских операций по расчетному счету .\n",
      "                        \n"
     ]
    },
    {
     "name": "stderr",
     "output_type": "stream",
     "text": [
      "  5% (1646 of 31024) |#                   | Elapsed Time: 0:00:13 ETA:  0:03:57"
     ]
    },
    {
     "name": "stdout",
     "output_type": "stream",
     "text": [
      "\n",
      "                        Catch empty line:\n",
      "                        train_line: \n",
      "                        label_line: Служба технической поддержки Сбербанка , меня зовут Алина , здравствуйте !\n",
      "                        \n"
     ]
    },
    {
     "name": "stderr",
     "output_type": "stream",
     "text": [
      "  6% (1997 of 31024) |#                   | Elapsed Time: 0:00:15 ETA:  0:03:45"
     ]
    },
    {
     "name": "stdout",
     "output_type": "stream",
     "text": [
      "\n",
      "                        Catch empty line:\n",
      "                        train_line: \n",
      "                        label_line: Павел Викторович , пожалуйста , проверьте : внутри документа есть какие-либо записи ?\n",
      "                        \n",
      "\n",
      "                        Catch empty line:\n",
      "                        train_line: \n",
      "                        label_line: Служба технической поддержки Сбербанка , меня зовут Елена , здравствуйте !\n",
      "                        \n"
     ]
    },
    {
     "name": "stderr",
     "output_type": "stream",
     "text": [
      "  7% (2347 of 31024) |#                   | Elapsed Time: 0:00:17 ETA:  0:03:35"
     ]
    },
    {
     "name": "stdout",
     "output_type": "stream",
     "text": [
      "\n",
      "                        Catch empty line:\n",
      "                        train_line: \n",
      "                        label_line: Перед этой информацией есть еще строка с надписью ' ' encode = ' ' ?\n",
      "                        \n"
     ]
    },
    {
     "name": "stderr",
     "output_type": "stream",
     "text": [
      "  7% (2420 of 31024) |#                   | Elapsed Time: 0:00:17 ETA:  0:03:31"
     ]
    },
    {
     "name": "stdout",
     "output_type": "stream",
     "text": [
      "\n",
      "                        Catch empty line:\n",
      "                        train_line: \n",
      "                        label_line: Для чего эти данные ?\n",
      "                        \n"
     ]
    },
    {
     "name": "stderr",
     "output_type": "stream",
     "text": [
      "  8% (2668 of 31024) |#                   | Elapsed Time: 0:00:19 ETA:  0:03:22"
     ]
    },
    {
     "name": "stdout",
     "output_type": "stream",
     "text": [
      "\n",
      "                        Catch empty line:\n",
      "                        train_line: \n",
      "                        label_line: Андрей Александрович , у Вас происходила ранее смена сим-карты ?\n",
      "                        \n"
     ]
    },
    {
     "name": "stderr",
     "output_type": "stream",
     "text": [
      "  8% (2714 of 31024) |#                   | Elapsed Time: 0:00:19 ETA:  0:03:21"
     ]
    },
    {
     "name": "stdout",
     "output_type": "stream",
     "text": [
      "\n",
      "                        Catch empty line:\n",
      "                        train_line: \n",
      "                        label_line: Алексей Альбертович , необходимо будет направить Ваше обращение специалистам на дополнительную проверку , можете уточнить дополнительную информацию по Вашей организации ?\n",
      "                        \n"
     ]
    },
    {
     "name": "stderr",
     "output_type": "stream",
     "text": [
      "  8% (2762 of 31024) |#                   | Elapsed Time: 0:00:19 ETA:  0:03:21"
     ]
    },
    {
     "name": "stdout",
     "output_type": "stream",
     "text": [
      "\n",
      "                        Catch empty line:\n",
      "                        train_line: \n",
      "                        label_line: Все пожелания по новому дизайну я передам разработчикам системы . Спасибо за информацию .\n",
      "                        \n"
     ]
    },
    {
     "name": "stderr",
     "output_type": "stream",
     "text": [
      "  9% (2913 of 31024) |#                   | Elapsed Time: 0:00:20 ETA:  0:03:18"
     ]
    },
    {
     "name": "stdout",
     "output_type": "stream",
     "text": [
      "\n",
      "                        Catch empty line:\n",
      "                        train_line: \n",
      "                        label_line: Может быть имеете в виду входящие требования ?\n",
      "                        \n"
     ]
    },
    {
     "name": "stderr",
     "output_type": "stream",
     "text": [
      "  9% (3071 of 31024) |#                   | Elapsed Time: 0:00:21 ETA:  0:03:15"
     ]
    },
    {
     "name": "stdout",
     "output_type": "stream",
     "text": [
      "\n",
      "                        Catch empty line:\n",
      "                        train_line: \n",
      "                        label_line: Не вижу что бы у Вас стаяла кодировка виндовс & lt ; ? xml version =& quot ; 1 . 0 & quot ; encoding =& quot ; UTF-8 & quot ; ? & gt ;\n",
      "                        \n"
     ]
    },
    {
     "name": "stderr",
     "output_type": "stream",
     "text": [
      " 10% (3134 of 31024) |##                  | Elapsed Time: 0:00:21 ETA:  0:03:13"
     ]
    },
    {
     "name": "stdout",
     "output_type": "stream",
     "text": [
      "\n",
      "                        Catch empty line:\n",
      "                        train_line: \n",
      "                        label_line: Мне потребуется время для уточнения информации . Ожидайте , пожалуйста .\n",
      "                        \n",
      "\n",
      "                        Catch empty line:\n",
      "                        train_line: \n",
      "                        label_line: Мне потребуется время для уточнения информации . Ожидайте , пожалуйста .\n",
      "                        \n"
     ]
    },
    {
     "name": "stderr",
     "output_type": "stream",
     "text": [
      " 10% (3213 of 31024) |##                  | Elapsed Time: 0:00:22 ETA:  0:03:11"
     ]
    },
    {
     "name": "stdout",
     "output_type": "stream",
     "text": [
      "\n",
      "                        Catch empty line:\n",
      "                        train_line: \n",
      "                        label_line: Руслан Шарифуллович , уточните , пожалуйста , сколько пользователей ( с правом подписи ) у Вас в организации ?\n",
      "                        \n"
     ]
    },
    {
     "name": "stderr",
     "output_type": "stream",
     "text": [
      " 11% (3451 of 31024) |##                  | Elapsed Time: 0:00:23 ETA:  0:03:07"
     ]
    },
    {
     "name": "stdout",
     "output_type": "stream",
     "text": [
      "\n",
      "                        Catch empty line:\n",
      "                        train_line: \n",
      "                        label_line: Ожидайте , пожалуйста , мне необходимо уточнить информацию .\n",
      "                        \n",
      "\n",
      "                        Catch empty line:\n",
      "                        train_line: \n",
      "                        label_line: Ожидайте , пожалуйста , мне необходимо уточнить информацию .\n",
      "                        \n"
     ]
    },
    {
     "name": "stderr",
     "output_type": "stream",
     "text": [
      " 11% (3607 of 31024) |##                  | Elapsed Time: 0:00:24 ETA:  0:03:03"
     ]
    },
    {
     "name": "stdout",
     "output_type": "stream",
     "text": [
      "\n",
      "                        Catch empty line:\n",
      "                        train_line: \n",
      "                        label_line: Предоставьте , пожалуйста , файл импорта на нашу почту для проверки структуры файла .\n",
      "                        \n",
      "\n",
      "                        Catch empty line:\n",
      "                        train_line: \n",
      "                        label_line: Игорь Борисович , необходимо направить сам файл импорта на указанный адрес электронной почты для проверки структуры файла импорта .\n",
      "                        \n"
     ]
    },
    {
     "name": "stderr",
     "output_type": "stream",
     "text": [
      " 13% (4049 of 31024) |##                  | Elapsed Time: 0:00:26 ETA:  0:02:55"
     ]
    },
    {
     "name": "stdout",
     "output_type": "stream",
     "text": [
      "\n",
      "                        Catch empty line:\n",
      "                        train_line: \n",
      "                        label_line: Откройте Ваше экспортированный файл из 1с в блокноте , и проверти заполненность всех полей .\n",
      "                        \n",
      "\n",
      "                        Catch empty line:\n",
      "                        train_line: \n",
      "                        label_line: Какой тип защиты Вы используете при работе со Сбербанк Бизнес Онлайн ( электронная подпись или SMS-сообщения ) ?\n",
      "                        \n"
     ]
    },
    {
     "name": "stderr",
     "output_type": "stream",
     "text": [
      " 13% (4257 of 31024) |##                  | Elapsed Time: 0:00:27 ETA:  0:02:52"
     ]
    },
    {
     "name": "stdout",
     "output_type": "stream",
     "text": [
      "\n",
      "                        Catch empty line:\n",
      "                        train_line: \n",
      "                        label_line: Сергей , рекомендую обратиться в филиал Банка по месту ведения расчетного счета для уточнения информации по письму .\n",
      "                        \n"
     ]
    },
    {
     "name": "stderr",
     "output_type": "stream",
     "text": [
      " 14% (4489 of 31024) |##                  | Elapsed Time: 0:00:28 ETA:  0:02:49"
     ]
    },
    {
     "name": "stdout",
     "output_type": "stream",
     "text": [
      "\n",
      "                        Catch empty line:\n",
      "                        train_line: \n",
      "                        label_line: Федор Михайлович , документ у Вас не загрузился ?\n",
      "                        \n",
      "\n",
      "                        Catch empty line:\n",
      "                        train_line: \n",
      "                        label_line: У Вас имеется конверт по номером 1 ?\n",
      "                        \n"
     ]
    },
    {
     "name": "stderr",
     "output_type": "stream",
     "text": [
      " 15% (4665 of 31024) |###                 | Elapsed Time: 0:00:29 ETA:  0:02:46"
     ]
    },
    {
     "name": "stdout",
     "output_type": "stream",
     "text": [
      "\n",
      "                        Catch empty line:\n",
      "                        train_line: \n",
      "                        label_line: Сим-карту недавно меняли ?\n",
      "                        \n",
      "\n",
      "                        Catch empty line:\n",
      "                        train_line: \n",
      "                        label_line: Дмитрий Вячеславович , выполните , пожалуйста , скрриншот окна с заполненными полями документа .\n",
      "                        \n"
     ]
    },
    {
     "name": "stderr",
     "output_type": "stream",
     "text": [
      " 15% (4743 of 31024) |###                 | Elapsed Time: 0:00:29 ETA:  0:02:44"
     ]
    },
    {
     "name": "stdout",
     "output_type": "stream",
     "text": [
      "\n",
      "                        Catch empty line:\n",
      "                        train_line: \n",
      "                        label_line: Уточните , пожалуйста , Вы обращаетесь как представитель юридического лица , индивидуальный предприниматель или как частный клиент ?\n",
      "                        \n",
      "\n",
      "                        Catch empty line:\n",
      "                        train_line: \n",
      "                        label_line: Вам необходимо заполнять данные поля ?\n",
      "                        \n"
     ]
    },
    {
     "name": "stderr",
     "output_type": "stream",
     "text": [
      " 15% (4835 of 31024) |###                 | Elapsed Time: 0:00:30 ETA:  0:02:42"
     ]
    },
    {
     "name": "stdout",
     "output_type": "stream",
     "text": [
      "\n",
      "                        Catch empty line:\n",
      "                        train_line: \n",
      "                        label_line: Служба технической поддержки Сбербанка , меня зовут Галина , здравствуйте !\n",
      "                        \n",
      "\n",
      "                        Catch empty line:\n",
      "                        train_line: \n",
      "                        label_line: Я рекомендую обратиться в поддержку данного плагина или Вы можете выпустить подпись для E-Invoicing стандартным способом .\n",
      "                        \n"
     ]
    },
    {
     "name": "stderr",
     "output_type": "stream",
     "text": [
      " 15% (4915 of 31024) |###                 | Elapsed Time: 0:00:30 ETA:  0:02:41"
     ]
    },
    {
     "name": "stdout",
     "output_type": "stream",
     "text": [
      "\n",
      "                        Catch empty line:\n",
      "                        train_line: \n",
      "                        label_line: Андрей Владиславович , Вам выдает ошибку по налоговым полям . Уточните какое значение проставили в поле 101 Показатель статуса ?\n",
      "                        \n",
      "\n",
      "                        Catch empty line:\n",
      "                        train_line: \n",
      "                        label_line: Олег Иванович , уточните , пожалуйста , на новом токине создавали запрос на сертификат ?\n",
      "                        \n"
     ]
    },
    {
     "name": "stderr",
     "output_type": "stream",
     "text": [
      " 16% (5106 of 31024) |###                 | Elapsed Time: 0:00:31 ETA:  0:02:38"
     ]
    },
    {
     "name": "stdout",
     "output_type": "stream",
     "text": [
      "\n",
      "                        Catch empty line:\n",
      "                        train_line: \n",
      "                        label_line: Сергей Владимирович , необходим скриншот данной ошибки .\n",
      "                        \n",
      "\n",
      "                        Catch empty line:\n",
      "                        train_line: \n",
      "                        label_line: Служба технической поддержки Сбербанка , меня зовут Олег , здравствуйте !\n",
      "                        \n"
     ]
    },
    {
     "name": "stderr",
     "output_type": "stream",
     "text": [
      " 16% (5224 of 31024) |###                 | Elapsed Time: 0:00:31 ETA:  0:02:37"
     ]
    },
    {
     "name": "stdout",
     "output_type": "stream",
     "text": [
      "\n",
      "                        Catch empty line:\n",
      "                        train_line: \n",
      "                        label_line: Юрий Гергиевич , оплату производите в МТС ?\n",
      "                        \n"
     ]
    },
    {
     "name": "stderr",
     "output_type": "stream",
     "text": [
      " 17% (5456 of 31024) |###                 | Elapsed Time: 0:00:33 ETA:  0:02:33"
     ]
    },
    {
     "name": "stdout",
     "output_type": "stream",
     "text": [
      "\n",
      "                        Catch empty line:\n",
      "                        train_line: \n",
      "                        label_line: Уточните , пожалуйста , Вы проводили какие-либо действия с sim-картой - замена , восстановление , изменение размера , смена оператора без изменения номера телефона ?\n",
      "                        \n",
      "\n",
      "                        Catch empty line:\n",
      "                        train_line: \n",
      "                        label_line: И сам файл отправьте , пожалуйста .\n",
      "                        \n",
      "\n",
      "                        Catch empty line:\n",
      "                        train_line: \n",
      "                        label_line: Сделайте скриншот экрана и отправьте , нам на электронный адрес stp @ sberbank . ru . В теме письма укажите \" ЧАТ \" . Как только отправите данный скриншот , напишите с какого адреса был отправлен .\n",
      "                        \n"
     ]
    },
    {
     "name": "stderr",
     "output_type": "stream",
     "text": [
      " 20% (6231 of 31024) |####                | Elapsed Time: 0:00:36 ETA:  0:02:15"
     ]
    },
    {
     "name": "stdout",
     "output_type": "stream",
     "text": [
      "\n",
      "                        Catch empty line:\n",
      "                        train_line: \n",
      "                        label_line: Отправьте , нам на электронный адрес stp @ sberbank . ru сам файл , который Вы импортируете . В теме письма укажите \" ЧАТ \" . Как только отправите , напишите с какого адреса был отправлен .\n",
      "                        \n"
     ]
    },
    {
     "name": "stderr",
     "output_type": "stream",
     "text": [
      " 22% (6826 of 31024) |####                | Elapsed Time: 0:00:38 ETA:  0:02:05"
     ]
    },
    {
     "name": "stdout",
     "output_type": "stream",
     "text": [
      "\n",
      "                        Catch empty line:\n",
      "                        train_line: \n",
      "                        label_line: Анна Владимировна , документ можете только подписать когда он будет в статусе \" Создан \" .\n",
      "                        \n",
      "\n",
      "                        Catch empty line:\n",
      "                        train_line: \n",
      "                        label_line: Людмила Владимировна , реестр обрабатывается в течении операционного дня . В договоре у Вас должно быть прописано наименование файла которое необходимо использовать , данные у Вас совпадают ?\n",
      "                        \n"
     ]
    },
    {
     "name": "stderr",
     "output_type": "stream",
     "text": [
      " 22% (6965 of 31024) |####                | Elapsed Time: 0:00:39 ETA:  0:02:03"
     ]
    },
    {
     "name": "stdout",
     "output_type": "stream",
     "text": [
      "\n",
      "                        Catch empty line:\n",
      "                        train_line: \n",
      "                        label_line: В решении этого вопроса Вам поможет клиентский менеджер в филиале Банка по месту обслуживания .\n",
      "                        \n"
     ]
    },
    {
     "name": "stderr",
     "output_type": "stream",
     "text": [
      " 24% (7462 of 31024) |####                | Elapsed Time: 0:00:41 ETA:  0:01:56"
     ]
    },
    {
     "name": "stdout",
     "output_type": "stream",
     "text": [
      "\n",
      "                        Catch empty line:\n",
      "                        train_line: \n",
      "                        label_line: Александр Александрович , данные по получателю у Вас заполнены ?\n",
      "                        \n"
     ]
    },
    {
     "name": "stderr",
     "output_type": "stream",
     "text": [
      " 25% (7922 of 31024) |#####               | Elapsed Time: 0:00:42 ETA:  0:01:49"
     ]
    },
    {
     "name": "stdout",
     "output_type": "stream",
     "text": [
      "\n",
      "                        Catch empty line:\n",
      "                        train_line: \n",
      "                        label_line: Ожидайте , пожалуйста , мне необходимо уточнить информацию .\n",
      "                        \n",
      "\n",
      "                        Catch empty line:\n",
      "                        train_line: \n",
      "                        label_line: Роман Петрович , данным вопросом занимается операционная поддержка , у нас не отображается информация по Вашим документам .\n",
      "                        \n"
     ]
    },
    {
     "name": "stderr",
     "output_type": "stream",
     "text": [
      " 26% (8069 of 31024) |#####               | Elapsed Time: 0:00:43 ETA:  0:01:48"
     ]
    },
    {
     "name": "stdout",
     "output_type": "stream",
     "text": [
      "\n",
      "                        Catch empty line:\n",
      "                        train_line: \n",
      "                        label_line: Служба технической поддержки Сбербанка , меня зовут Александр . Здравствуйте !\n",
      "                        \n"
     ]
    },
    {
     "name": "stderr",
     "output_type": "stream",
     "text": [
      " 28% (8787 of 31024) |#####               | Elapsed Time: 0:00:46 ETA:  0:01:42"
     ]
    },
    {
     "name": "stdout",
     "output_type": "stream",
     "text": [
      "\n",
      "                        Catch empty line:\n",
      "                        train_line: \n",
      "                        label_line: Ожидайте , пожалуйста , мне необходимо уточнить информацию .\n",
      "                        \n"
     ]
    },
    {
     "name": "stderr",
     "output_type": "stream",
     "text": [
      " 28% (8841 of 31024) |#####               | Elapsed Time: 0:00:46 ETA:  0:01:41"
     ]
    },
    {
     "name": "stdout",
     "output_type": "stream",
     "text": [
      "\n",
      "                        Catch empty line:\n",
      "                        train_line: \n",
      "                        label_line: К сожалению , это невозможно . Все клиенты Банка постепенно будут переведены на Цифровую Корпоративную Платформу ( ЦКП ) , функционал которой будет расширяться .\n",
      "                        \n",
      "\n",
      "                        Catch empty line:\n",
      "                        train_line: \n",
      "                        label_line: Служба технической поддержки Сбербанка , меня зовут Альбина , здравствуйте !\n",
      "                        \n",
      "\n",
      "                        Catch empty line:\n",
      "                        train_line: \n",
      "                        label_line: Отправьте , пожалуйста , для проверки файл импорта на адрес stp @ sberbank . ru с темой \" Чат \" .\n",
      "                        \n"
     ]
    },
    {
     "name": "stderr",
     "output_type": "stream",
     "text": [
      " 29% (9275 of 31024) |#####               | Elapsed Time: 0:00:47 ETA:  0:01:36"
     ]
    },
    {
     "name": "stdout",
     "output_type": "stream",
     "text": [
      "\n",
      "                        Catch empty line:\n",
      "                        train_line: \n",
      "                        label_line: Если в поле \" 106 \" ( основание платежа ) указано одно из значений : \" ТП \" , \" ЗД \" , \" БФ \" , то в поле \" 107 \" ( налоговый период указывается дата в формате \" МС . MM . YYYY \" , \" КВ . XX . YYYY \" , \" ПЛ . XX . YYYY \" , \" ГД . 00 . YYYY \" , которая взаимосвязана с показателем основания платежа .\n",
      "                        \n",
      "\n",
      "                        Catch empty line:\n",
      "                        train_line: \n",
      "                        label_line: Арсен , когда Вы перейдете в новом дизайне во вкладку \" Счета \" , далее \" Выписки и отчёты \" , после заполнения полей : \" Расчетный счет \" и \" Период , станет доступна ссылка \" Показать дополнительные параметры \" .\n",
      "                        \n"
     ]
    },
    {
     "name": "stderr",
     "output_type": "stream",
     "text": [
      " 30% (9426 of 31024) |######              | Elapsed Time: 0:00:48 ETA:  0:01:34"
     ]
    },
    {
     "name": "stdout",
     "output_type": "stream",
     "text": [
      "\n",
      "                        Catch empty line:\n",
      "                        train_line: \n",
      "                        label_line: Служба технической поддержки Сбербанка , меня зовут Галина , здравствуйте !\n",
      "                        \n",
      "\n",
      "                        Catch empty line:\n",
      "                        train_line: \n",
      "                        label_line: Уточните , в системе на главной странице отображается счет 40817810760075000765 ?\n",
      "                        \n"
     ]
    },
    {
     "name": "stderr",
     "output_type": "stream",
     "text": [
      " 31% (9770 of 31024) |######              | Elapsed Time: 0:00:49 ETA:  0:01:31"
     ]
    },
    {
     "name": "stdout",
     "output_type": "stream",
     "text": [
      "\n",
      "                        Catch empty line:\n",
      "                        train_line: \n",
      "                        label_line: Выполните , пожалуйста , скрншот окна с ошибкой . Скриншот раздела \" Электронные подписи \" и раздела \" Компания \" .\n",
      "                        \n",
      "\n",
      "                        Catch empty line:\n",
      "                        train_line: \n",
      "                        label_line: Служба технической поддержки Сбербанка , меня зовут Александр . Здравствуйте !\n",
      "                        \n"
     ]
    },
    {
     "name": "stderr",
     "output_type": "stream",
     "text": [
      " 32% (10113 of 31024) |######             | Elapsed Time: 0:00:50 ETA:  0:01:28"
     ]
    },
    {
     "name": "stdout",
     "output_type": "stream",
     "text": [
      "\n",
      "                        Catch empty line:\n",
      "                        train_line: \n",
      "                        label_line: Уточняю информацию , пожалуйста , ожидайте .\n",
      "                        \n"
     ]
    },
    {
     "name": "stderr",
     "output_type": "stream",
     "text": [
      " 33% (10464 of 31024) |######             | Elapsed Time: 0:00:51 ETA:  0:01:26"
     ]
    },
    {
     "name": "stdout",
     "output_type": "stream",
     "text": [
      "\n",
      "                        Catch empty line:\n",
      "                        train_line: \n",
      "                        label_line: Служба технической поддержки Сбербанка , меня зовут Матвей , здравствуйте !\n",
      "                        \n",
      "\n",
      "                        Catch empty line:\n",
      "                        train_line: \n",
      "                        label_line: Служба технической поддержки Сбербанка , меня зовут Елена , здравствуйте !\n",
      "                        \n",
      "\n",
      "                        Catch empty line:\n",
      "                        train_line: \n",
      "                        label_line: Уточните , пожалуйста , у Вас есть номер электронного файла , отправленного из налоговой инспекции в Банк об отмене ограничений ? Номер файла начинается с латинских букв ROO .\n",
      "                        \n",
      "\n",
      "                        Catch empty line:\n",
      "                        train_line: \n",
      "                        label_line: Для проверки снятия ограничений необходим номер электронного файла , отправленного из налоговой инспекции в Банк об отмене ограничений .\n",
      "                        \n"
     ]
    },
    {
     "name": "stderr",
     "output_type": "stream",
     "text": [
      " 34% (10804 of 31024) |######             | Elapsed Time: 0:00:53 ETA:  0:01:23"
     ]
    },
    {
     "name": "stdout",
     "output_type": "stream",
     "text": [
      "\n",
      "                        Catch empty line:\n",
      "                        train_line: \n",
      "                        label_line: Георгий , если в поле 106 указано одно из значений : ТП , ЗД , БФ , то в поле 107 указывается дата в формате « МС . MM . YYYY » , « КВ . XX . YYYY » , « ПЛ . XX . YYYY » , « ГД . 00 . YYYY » , которая взаимосвязана с показателем основания платежа ( 10 символов ) .\n",
      "                        \n"
     ]
    },
    {
     "name": "stderr",
     "output_type": "stream",
     "text": [
      " 36% (11349 of 31024) |######             | Elapsed Time: 0:00:54 ETA:  0:01:18"
     ]
    },
    {
     "name": "stdout",
     "output_type": "stream",
     "text": [
      "\n",
      "                        Catch empty line:\n",
      "                        train_line: \n",
      "                        label_line: В данном случае Вам необходимо будет проверить документ в зарплатном проекте и затем уже подписать и отправить в банк на обработку .\n",
      "                        \n"
     ]
    },
    {
     "name": "stderr",
     "output_type": "stream",
     "text": [
      " 37% (11750 of 31024) |#######            | Elapsed Time: 0:00:55 ETA:  0:01:15"
     ]
    },
    {
     "name": "stdout",
     "output_type": "stream",
     "text": [
      "\n",
      "                        Catch empty line:\n",
      "                        train_line: \n",
      "                        label_line: Вам лимиты необходимо проставить ?\n",
      "                        \n"
     ]
    },
    {
     "name": "stderr",
     "output_type": "stream",
     "text": [
      " 38% (11923 of 31024) |#######            | Elapsed Time: 0:00:56 ETA:  0:01:14"
     ]
    },
    {
     "name": "stdout",
     "output_type": "stream",
     "text": [
      "\n",
      "                        Catch empty line:\n",
      "                        train_line: \n",
      "                        label_line: Спасибо за ожидание .\n",
      "                        \n"
     ]
    },
    {
     "name": "stderr",
     "output_type": "stream",
     "text": [
      " 38% (12008 of 31024) |#######            | Elapsed Time: 0:00:56 ETA:  0:01:13"
     ]
    },
    {
     "name": "stdout",
     "output_type": "stream",
     "text": [
      "\n",
      "                        Catch empty line:\n",
      "                        train_line: \n",
      "                        label_line: У Вас не происходила именно смена сим-карты без смены номера телефона ?\n",
      "                        \n"
     ]
    },
    {
     "name": "stderr",
     "output_type": "stream",
     "text": [
      " 39% (12204 of 31024) |#######            | Elapsed Time: 0:00:57 ETA:  0:01:12"
     ]
    },
    {
     "name": "stdout",
     "output_type": "stream",
     "text": [
      "\n",
      "                        Catch empty line:\n",
      "                        train_line: \n",
      "                        label_line: Данное сообщение означает что в файле допущена ошибка .\n",
      "                        \n"
     ]
    },
    {
     "name": "stderr",
     "output_type": "stream",
     "text": [
      " 40% (12717 of 31024) |#######            | Elapsed Time: 0:00:59 ETA:  0:01:09"
     ]
    },
    {
     "name": "stdout",
     "output_type": "stream",
     "text": [
      "\n",
      "                        Catch empty line:\n",
      "                        train_line: \n",
      "                        label_line: Вячеслав Николаевич , при импорте какой шаблон Вы выбираете уточните , пожалуйста .\n",
      "                        \n",
      "\n",
      "                        Catch empty line:\n",
      "                        train_line: \n",
      "                        label_line: Спасибо за ожидание , Елена Ивановна , в данном случае Вы можете направить в банк письмо об уточнении реквизитов и указать корректный месяц .\n",
      "                        \n"
     ]
    },
    {
     "name": "stderr",
     "output_type": "stream",
     "text": [
      " 41% (12890 of 31024) |#######            | Elapsed Time: 0:00:59 ETA:  0:01:08"
     ]
    },
    {
     "name": "stdout",
     "output_type": "stream",
     "text": [
      "\n",
      "                        Catch empty line:\n",
      "                        train_line: \n",
      "                        label_line: Основания платежа , что ставите ?\n",
      "                        \n"
     ]
    },
    {
     "name": "stderr",
     "output_type": "stream",
     "text": [
      " 42% (13227 of 31024) |########           | Elapsed Time: 0:01:00 ETA:  0:01:05"
     ]
    },
    {
     "name": "stdout",
     "output_type": "stream",
     "text": [
      "\n",
      "                        Catch empty line:\n",
      "                        train_line: \n",
      "                        label_line: Антон Сергеевич , к сожалению времени обработки в службу Технической программы не предоставлено .\n",
      "                        \n"
     ]
    },
    {
     "name": "stderr",
     "output_type": "stream",
     "text": [
      " 44% (13733 of 31024) |########           | Elapsed Time: 0:01:02 ETA:  0:01:02"
     ]
    },
    {
     "name": "stdout",
     "output_type": "stream",
     "text": [
      "\n",
      "                        Catch empty line:\n",
      "                        train_line: \n",
      "                        label_line: Елена Анатольевна , данные поля заполнены ?\n",
      "                        \n"
     ]
    },
    {
     "name": "stderr",
     "output_type": "stream",
     "text": [
      " 45% (13979 of 31024) |########           | Elapsed Time: 0:01:02 ETA:  0:01:01"
     ]
    },
    {
     "name": "stdout",
     "output_type": "stream",
     "text": [
      "\n",
      "                        Catch empty line:\n",
      "                        train_line: \n",
      "                        label_line: Уточните , пожалуйста , в какой версии программы Вы сейчас работаете ( новый дизайн или старый дизайн - есть раздел \" Услуги \" в левой части экрана ) ?\n",
      "                        \n"
     ]
    },
    {
     "name": "stderr",
     "output_type": "stream",
     "text": [
      " 46% (14461 of 31024) |########           | Elapsed Time: 0:01:04 ETA:  0:00:58"
     ]
    },
    {
     "name": "stdout",
     "output_type": "stream",
     "text": [
      "\n",
      "                        Catch empty line:\n",
      "                        train_line: \n",
      "                        label_line: Валерий Вячеславович , уточните пожалуйста , абонентом какого сотового оператора Вы являетесь ?\n",
      "                        \n"
     ]
    },
    {
     "name": "stderr",
     "output_type": "stream",
     "text": [
      " 46% (14526 of 31024) |########           | Elapsed Time: 0:01:04 ETA:  0:00:58"
     ]
    },
    {
     "name": "stdout",
     "output_type": "stream",
     "text": [
      "\n",
      "                        Catch empty line:\n",
      "                        train_line: \n",
      "                        label_line: Служба технической поддержки Сбербанка , меня зовут Ирина . Здравствуйте !\n",
      "                        \n"
     ]
    },
    {
     "name": "stderr",
     "output_type": "stream",
     "text": [
      " 47% (14649 of 31024) |########           | Elapsed Time: 0:01:05 ETA:  0:00:57"
     ]
    },
    {
     "name": "stdout",
     "output_type": "stream",
     "text": [
      "\n",
      "                        Catch empty line:\n",
      "                        train_line: \n",
      "                        label_line: Необходимо именно скриншот .\n",
      "                        \n"
     ]
    },
    {
     "name": "stderr",
     "output_type": "stream",
     "text": [
      " 48% (15182 of 31024) |#########          | Elapsed Time: 0:01:06 ETA:  0:00:54"
     ]
    },
    {
     "name": "stdout",
     "output_type": "stream",
     "text": [
      "\n",
      "                        Catch empty line:\n",
      "                        train_line: \n",
      "                        label_line: Вы оплачиваете в бюджетную организацию ?\n",
      "                        \n"
     ]
    },
    {
     "name": "stderr",
     "output_type": "stream",
     "text": [
      " 49% (15311 of 31024) |#########          | Elapsed Time: 0:01:06 ETA:  0:00:53"
     ]
    },
    {
     "name": "stdout",
     "output_type": "stream",
     "text": [
      "\n",
      "                        Catch empty line:\n",
      "                        train_line: \n",
      "                        label_line: Если указан бюджетный счет получателя или счет соответствующий формату ГИС ГМП ( Государственная информационная система о государственных и муниципальных платежах ) , то программа запрашивает заполнение данных полей ( поля 101 - 109 ) .\n",
      "                        \n"
     ]
    },
    {
     "name": "stderr",
     "output_type": "stream",
     "text": [
      " 51% (15934 of 31024) |#########          | Elapsed Time: 0:01:08 ETA:  0:00:50"
     ]
    },
    {
     "name": "stdout",
     "output_type": "stream",
     "text": [
      "\n",
      "                        Catch empty line:\n",
      "                        train_line: \n",
      "                        label_line: Эти данные находятся в квитанции . Если их нет или не видите обратитесь в ЖКХ . Они помогут .\n",
      "                        \n"
     ]
    },
    {
     "name": "stderr",
     "output_type": "stream",
     "text": [
      " 52% (16369 of 31024) |##########         | Elapsed Time: 0:01:09 ETA:  0:00:48"
     ]
    },
    {
     "name": "stdout",
     "output_type": "stream",
     "text": [
      "\n",
      "                        Catch empty line:\n",
      "                        train_line: \n",
      "                        label_line: Владимир Яковлевич , данное сообщение означает , что изменились реквизиты . Уточните , пожалуйста их у получателя .\n",
      "                        \n"
     ]
    },
    {
     "name": "stderr",
     "output_type": "stream",
     "text": [
      " 53% (16634 of 31024) |##########         | Elapsed Time: 0:01:10 ETA:  0:00:47"
     ]
    },
    {
     "name": "stdout",
     "output_type": "stream",
     "text": [
      "\n",
      "                        Catch empty line:\n",
      "                        train_line: \n",
      "                        label_line: Сколько подписей у Вас в системе ?\n",
      "                        \n"
     ]
    },
    {
     "name": "stderr",
     "output_type": "stream",
     "text": [
      " 56% (17473 of 31024) |##########         | Elapsed Time: 0:01:12 ETA:  0:00:43"
     ]
    },
    {
     "name": "stdout",
     "output_type": "stream",
     "text": [
      "\n",
      "                        Catch empty line:\n",
      "                        train_line: \n",
      "                        label_line: В правом верхнем углу у Вас имеется поле \" Показатель статуса \" . Выберите здесь значение 08 . Затем в налоговых полях \" КБК \" , \" ОКТМО \" , \" Основание платежа \" , \" Налоговый период \" , \" Номер документа \" , \" Дата документа \" и \" Код \" проставьте 0 .\n",
      "                        \n"
     ]
    },
    {
     "name": "stderr",
     "output_type": "stream",
     "text": [
      " 61% (19004 of 31024) |###########        | Elapsed Time: 0:01:17 ETA:  0:00:37"
     ]
    },
    {
     "name": "stdout",
     "output_type": "stream",
     "text": [
      "\n",
      "                        Catch empty line:\n",
      "                        train_line: \n",
      "                        label_line: Списание документа , который находится в промежуточном статусе \" Картотека № 2 \" произойдет автоматически , необходимо дождаться конечного статуса . Документ , который находится в конечном статусе \" Отказан АБС \" необходимо отправить повторно для его обработки .\n",
      "                        \n"
     ]
    },
    {
     "name": "stderr",
     "output_type": "stream",
     "text": [
      " 63% (19823 of 31024) |############       | Elapsed Time: 0:01:19 ETA:  0:00:33"
     ]
    },
    {
     "name": "stdout",
     "output_type": "stream",
     "text": [
      "\n",
      "                        Catch empty line:\n",
      "                        train_line: \n",
      "                        label_line: Уточните , пожалуйста , у Вас есть номер электронного файла , отправленного из налоговой инспекции в Банк об отмене ограничений ? Номер файла начинается с латинских букв ROO .\n",
      "                        \n"
     ]
    },
    {
     "name": "stderr",
     "output_type": "stream",
     "text": [
      " 65% (20184 of 31024) |############       | Elapsed Time: 0:01:20 ETA:  0:00:32"
     ]
    },
    {
     "name": "stdout",
     "output_type": "stream",
     "text": [
      "\n",
      "                        Catch empty line:\n",
      "                        train_line: \n",
      "                        label_line: Служба технической поддержки Сбербанка , меня зовут Александр . Здравствуйте !\n",
      "                        \n"
     ]
    },
    {
     "name": "stderr",
     "output_type": "stream",
     "text": [
      " 67% (20814 of 31024) |############       | Elapsed Time: 0:01:21 ETA:  0:00:30"
     ]
    },
    {
     "name": "stdout",
     "output_type": "stream",
     "text": [
      "\n",
      "                        Catch empty line:\n",
      "                        train_line: \n",
      "                        label_line: Возврат средств выполняется в среднем 5 дней .\n",
      "                        \n",
      "\n",
      "                        Catch empty line:\n",
      "                        train_line: \n",
      "                        label_line: Теперь вам необходимо данные платёжные поручения отправить в Банк для обработки . Вы их не отправили в Банк , поэтому ваши платёжные поручения не исполнены .\n",
      "                        \n"
     ]
    },
    {
     "name": "stderr",
     "output_type": "stream",
     "text": [
      " 69% (21514 of 31024) |#############      | Elapsed Time: 0:01:23 ETA:  0:00:27"
     ]
    },
    {
     "name": "stdout",
     "output_type": "stream",
     "text": [
      "\n",
      "                        Catch empty line:\n",
      "                        train_line: \n",
      "                        label_line: Сергей Петрович , сколько сотрудников в организации у Вас имеют право подписи ?\n",
      "                        \n"
     ]
    },
    {
     "name": "stderr",
     "output_type": "stream",
     "text": [
      " 71% (22121 of 31024) |#############      | Elapsed Time: 0:01:24 ETA:  0:00:25"
     ]
    },
    {
     "name": "stdout",
     "output_type": "stream",
     "text": [
      "\n",
      "                        Catch empty line:\n",
      "                        train_line: \n",
      "                        label_line: Семён Сергеевич , если у Вас одна учетная запись необходимо предоставить заявление в обслуживающее отделение банка .\n",
      "                        \n"
     ]
    },
    {
     "name": "stderr",
     "output_type": "stream",
     "text": [
      " 71% (22295 of 31024) |#############      | Elapsed Time: 0:01:25 ETA:  0:00:24"
     ]
    },
    {
     "name": "stdout",
     "output_type": "stream",
     "text": [
      "\n",
      "                        Catch empty line:\n",
      "                        train_line: \n",
      "                        label_line: Елена Александровна , уточните , пожалуйста , в каком статусе находится Ваш реестр ?\n",
      "                        \n",
      "\n",
      "                        Catch empty line:\n",
      "                        train_line: \n",
      "                        label_line: Елена Александровна , сформируйте , пожалуйста , скриншот журнала импорта , а также необходим сам файл .\n",
      "                        \n"
     ]
    },
    {
     "name": "stderr",
     "output_type": "stream",
     "text": [
      " 72% (22523 of 31024) |#############      | Elapsed Time: 0:01:26 ETA:  0:00:24"
     ]
    },
    {
     "name": "stdout",
     "output_type": "stream",
     "text": [
      "\n",
      "                        Catch empty line:\n",
      "                        train_line: \n",
      "                        label_line: Ожидайте , пожалуйста , мне необходимо уточнить информацию .\n",
      "                        \n"
     ]
    },
    {
     "name": "stderr",
     "output_type": "stream",
     "text": [
      " 72% (22644 of 31024) |#############      | Elapsed Time: 0:01:26 ETA:  0:00:23"
     ]
    },
    {
     "name": "stdout",
     "output_type": "stream",
     "text": [
      "\n",
      "                        Catch empty line:\n",
      "                        train_line: \n",
      "                        label_line: Служба технической поддержки Сбербанка , меня зовут Ирина . Здравствуйте !\n",
      "                        \n"
     ]
    },
    {
     "name": "stderr",
     "output_type": "stream",
     "text": [
      " 74% (23043 of 31024) |##############     | Elapsed Time: 0:01:27 ETA:  0:00:22"
     ]
    },
    {
     "name": "stdout",
     "output_type": "stream",
     "text": [
      "\n",
      "                        Catch empty line:\n",
      "                        train_line: \n",
      "                        label_line: Служба технической поддержки Сбербанка , меня зовут Альбина , здравствуйте !\n",
      "                        \n"
     ]
    },
    {
     "name": "stderr",
     "output_type": "stream",
     "text": [
      " 78% (24311 of 31024) |##############     | Elapsed Time: 0:01:30 ETA:  0:00:18"
     ]
    },
    {
     "name": "stdout",
     "output_type": "stream",
     "text": [
      "\n",
      "                        Catch empty line:\n",
      "                        train_line: \n",
      "                        label_line: Анастасия Викторовна , Вам необходимо указать расчетный счет получателя и БИК Банка получателя , после выбрать значение в поле \" Показатель статуса \" . Поля налогового периода станут активны .\n",
      "                        \n"
     ]
    },
    {
     "name": "stderr",
     "output_type": "stream",
     "text": [
      " 82% (25632 of 31024) |###############    | Elapsed Time: 0:01:33 ETA:  0:00:14"
     ]
    },
    {
     "name": "stdout",
     "output_type": "stream",
     "text": [
      "\n",
      "                        Catch empty line:\n",
      "                        train_line: \n",
      "                        label_line: Ожидайте , пожалуйста , мне необходимо уточнить информацию .\n",
      "                        \n"
     ]
    },
    {
     "name": "stderr",
     "output_type": "stream",
     "text": [
      " 83% (26042 of 31024) |###############    | Elapsed Time: 0:01:34 ETA:  0:00:13"
     ]
    },
    {
     "name": "stdout",
     "output_type": "stream",
     "text": [
      "\n",
      "                        Catch empty line:\n",
      "                        train_line: \n",
      "                        label_line: В таком случае мне необходимо выставить запрос на специалистов . Мне потребуются от Вас данные по организации : ИНН , наименование , отделение банка в котором обслуживаетесь , ФИО учетной записи , № и дата отказанного документа , тип работы ( токен или смс ) , номер телефона для связи .\n",
      "                        \n"
     ]
    },
    {
     "name": "stderr",
     "output_type": "stream",
     "text": [
      " 88% (27372 of 31024) |################   | Elapsed Time: 0:01:37 ETA:  0:00:09"
     ]
    },
    {
     "name": "stdout",
     "output_type": "stream",
     "text": [
      "\n",
      "                        Catch empty line:\n",
      "                        train_line: \n",
      "                        label_line: Служба технической поддержки Сбербанка , меня зовут Надежда . Здравствуйте !\n",
      "                        \n"
     ]
    },
    {
     "name": "stderr",
     "output_type": "stream",
     "text": [
      " 94% (29228 of 31024) |#################  | Elapsed Time: 0:01:41 ETA:  0:00:04"
     ]
    },
    {
     "name": "stdout",
     "output_type": "stream",
     "text": [
      "\n",
      "                        Catch empty line:\n",
      "                        train_line: \n",
      "                        label_line: Служба технической поддержки Сбербанка , меня зовут Надежда . Здравствуйте !\n",
      "                        \n"
     ]
    },
    {
     "name": "stderr",
     "output_type": "stream",
     "text": [
      " 99% (30930 of 31024) |################## | Elapsed Time: 0:01:44 ETA:  0:00:00"
     ]
    },
    {
     "name": "stdout",
     "output_type": "stream",
     "text": [
      "\n",
      "                        Catch empty line:\n",
      "                        train_line: \n",
      "                        label_line: Служба технической поддержки Сбербанка , меня зовут Оксана . Здравствуйте !\n",
      "                        \n"
     ]
    },
    {
     "name": "stderr",
     "output_type": "stream",
     "text": [
      "100% (31024 of 31024) |###################| Elapsed Time: 0:01:45 Time: 0:01:45\n"
     ]
    }
   ],
   "source": [
    "used_df, _ = preprocessing.rand_split_list(resulted_chats,part_of_all_data)\n",
    "train_df, test_df = preprocessing.rand_split_list(used_df,train_part_of_used_data)\n",
    "dev_test, test = preprocessing.rand_split_list(test_df,dev_part_of_test)\n",
    "preprocessing.dataset_make(train_df,cor_train,man_train,pad_enable,label_line_len)\n",
    "preprocessing.dataset_make(dev_test,cor_dev_test,man_dev_test,pad_enable,label_line_len)\n",
    "preprocessing.dataset_make(test,cor_test,man_test,pad_enable,label_line_len)\n",
    "preprocessing.dataset_make(used_df,cor_all,man_all,pad_enable,label_line_len)"
   ]
  },
  {
   "cell_type": "code",
   "execution_count": 45,
   "metadata": {},
   "outputs": [
    {
     "name": "stderr",
     "output_type": "stream",
     "text": [
      "| 275326 Elapsed Time: 0:00:04                                                 \n",
      "| 275326 Elapsed Time: 0:00:01                                                 \n",
      "100% (26918 of 26918) |###################| Elapsed Time: 0:00:00 Time: 0:00:00\n",
      "100% (77178 of 77178) |###################| Elapsed Time: 0:00:00 Time: 0:00:00\n"
     ]
    }
   ],
   "source": [
    "cor_vocab = preprocessing.mkvocab(cor_all)\n",
    "man_vocab = preprocessing.mkvocab(man_all)\n",
    "preprocessing.save_vocab(man_vocab, man_voc)\n",
    "preprocessing.save_vocab(cor_vocab, cor_voc)"
   ]
  },
  {
   "cell_type": "code",
   "execution_count": 39,
   "metadata": {},
   "outputs": [
    {
     "data": {
      "text/plain": [
       "776"
      ]
     },
     "execution_count": 39,
     "metadata": {},
     "output_type": "execute_result"
    }
   ],
   "source": [
    "len(test)"
   ]
  },
  {
   "cell_type": "code",
   "execution_count": 42,
   "metadata": {
    "collapsed": true
   },
   "outputs": [
    {
     "data": {
      "text/plain": [
       "0         False\n",
       "1         False\n",
       "2         False\n",
       "3         False\n",
       "4         False\n",
       "5         False\n",
       "6         False\n",
       "7         False\n",
       "8         False\n",
       "9         False\n",
       "10        False\n",
       "11        False\n",
       "12        False\n",
       "13        False\n",
       "14        False\n",
       "15        False\n",
       "16        False\n",
       "17        False\n",
       "18        False\n",
       "19        False\n",
       "20        False\n",
       "21        False\n",
       "22        False\n",
       "23        False\n",
       "24        False\n",
       "25        False\n",
       "26        False\n",
       "27        False\n",
       "28        False\n",
       "29        False\n",
       "          ...  \n",
       "668243    False\n",
       "668244    False\n",
       "668245    False\n",
       "668246    False\n",
       "668247    False\n",
       "668248    False\n",
       "668249    False\n",
       "668250    False\n",
       "668251    False\n",
       "668252    False\n",
       "668253    False\n",
       "668254    False\n",
       "668255    False\n",
       "668256    False\n",
       "668257    False\n",
       "668258    False\n",
       "668259    False\n",
       "668260    False\n",
       "668261    False\n",
       "668262    False\n",
       "668263    False\n",
       "668264    False\n",
       "668265    False\n",
       "668266    False\n",
       "668267    False\n",
       "668268    False\n",
       "668269    False\n",
       "668270    False\n",
       "668271    False\n",
       "668272    False\n",
       "Name: TEXT, Length: 668273, dtype: bool"
      ]
     },
     "execution_count": 42,
     "metadata": {},
     "output_type": "execute_result"
    }
   ],
   "source": [
    "q"
   ]
  },
  {
   "cell_type": "code",
   "execution_count": null,
   "metadata": {
    "collapsed": true
   },
   "outputs": [],
   "source": []
  },
  {
   "cell_type": "code",
   "execution_count": null,
   "metadata": {
    "collapsed": true
   },
   "outputs": [],
   "source": []
  },
  {
   "cell_type": "code",
   "execution_count": null,
   "metadata": {
    "collapsed": true
   },
   "outputs": [],
   "source": []
  },
  {
   "cell_type": "code",
   "execution_count": null,
   "metadata": {
    "collapsed": true
   },
   "outputs": [],
   "source": []
  },
  {
   "cell_type": "code",
   "execution_count": null,
   "metadata": {
    "collapsed": true
   },
   "outputs": [],
   "source": []
  },
  {
   "cell_type": "code",
   "execution_count": null,
   "metadata": {
    "collapsed": true
   },
   "outputs": [],
   "source": []
  },
  {
   "cell_type": "code",
   "execution_count": null,
   "metadata": {
    "collapsed": true
   },
   "outputs": [],
   "source": []
  }
 ],
 "metadata": {
  "kernelspec": {
   "display_name": "Python 3",
   "language": "python",
   "name": "python3"
  },
  "language_info": {
   "codemirror_mode": {
    "name": "ipython",
    "version": 3
   },
   "file_extension": ".py",
   "mimetype": "text/x-python",
   "name": "python",
   "nbconvert_exporter": "python",
   "pygments_lexer": "ipython3",
   "version": "3.4.3"
  }
 },
 "nbformat": 4,
 "nbformat_minor": 2
}
