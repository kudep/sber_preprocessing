{
 "cells": [
  {
   "cell_type": "code",
   "execution_count": 19,
   "metadata": {},
   "outputs": [
    {
     "name": "stdout",
     "output_type": "stream",
     "text": [
      "The autoreload extension is already loaded. To reload it, use:\n",
      "  %reload_ext autoreload\n"
     ]
    }
   ],
   "source": [
    "#debug options\n",
    "# http://ipython.readthedocs.io/en/stable/config/extensions/autoreload.html\n",
    "%load_ext autoreload\n",
    "%autoreload 2"
   ]
  },
  {
   "cell_type": "code",
   "execution_count": 87,
   "metadata": {},
   "outputs": [
    {
     "data": {
      "text/plain": [
       "<matplotlib.figure.Figure at 0x7f4efd722b70>"
      ]
     },
     "metadata": {},
     "output_type": "display_data"
    }
   ],
   "source": [
    "#incleding modules\n",
    "import pandas as pd\n",
    "from os import path\n",
    "import utils.shared as utils\n",
    "import utils.analysis as analysis\n",
    "import matplotlib.pyplot as plt"
   ]
  },
  {
   "cell_type": "code",
   "execution_count": 95,
   "metadata": {},
   "outputs": [
    {
     "data": {
      "text/plain": [
       "<matplotlib.figure.Figure at 0x7f4efe5c1a20>"
      ]
     },
     "metadata": {},
     "output_type": "display_data"
    }
   ],
   "source": [
    "# Path variable initialize\n",
    "root_dir = '../rawdata/sber/'\n",
    "xlsx_file = path.join(root_dir,'tech_suply.xlsx')\n",
    "# xlsx_file = path.join(root_dir,'toy.xlsx')"
   ]
  },
  {
   "cell_type": "code",
   "execution_count": 96,
   "metadata": {
    "collapsed": true
   },
   "outputs": [],
   "source": [
    "# Get dataset xlsx => df\n",
    "rawdataset = pd.read_excel(xlsx_file)"
   ]
  },
  {
   "cell_type": "code",
   "execution_count": 97,
   "metadata": {
    "collapsed": true
   },
   "outputs": [],
   "source": [
    "# Drop useless columns df => df\n",
    "l_column =\"CHAT_ID\"\n",
    "r_column =\"TYPE\"\n",
    "dataset = rawdataset.loc[:, l_column:r_column]"
   ]
  },
  {
   "cell_type": "code",
   "execution_count": 98,
   "metadata": {},
   "outputs": [
    {
     "name": "stderr",
     "output_type": "stream",
     "text": [
      "100% (5 of 5) |###########################| Elapsed Time: 0:00:31 Time: 0:00:31\n"
     ]
    }
   ],
   "source": [
    "# Tokinaze useless columns df => df\n",
    "column_name = 'TEXT'\n",
    "patterns = utils.regex_patterns.std_tokinaze\n",
    "tokinazed_dataset = utils.tokinaze_column(dataset, column_name,patterns)"
   ]
  },
  {
   "cell_type": "code",
   "execution_count": 136,
   "metadata": {},
   "outputs": [
    {
     "data": {
      "text/plain": [
       "[<matplotlib.lines.Line2D at 0x7f4efd5982b0>,\n",
       " <matplotlib.lines.Line2D at 0x7f4efd598cc0>,\n",
       " <matplotlib.lines.Line2D at 0x7f4efd59e588>]"
      ]
     },
     "execution_count": 136,
     "metadata": {},
     "output_type": "execute_result"
    },
    {
     "data": {
      "image/png": "[encoded data removed]",
      "text/plain": [
       "<matplotlib.figure.Figure at 0x7f4efd5ee9b0>"
      ]
     },
     "metadata": {},
     "output_type": "display_data"
    }
   ],
   "source": [
    "# Get replies distibution df => series\n",
    "speaker = None # CORPORATE, MANAGER\n",
    "replies_numbers_chats = analysis.get_replies_distibution(tokinazed_dataset, speaker)\n",
    "replies_numbers = pd.Series(replies_numbers_chats.index)\n",
    "\n",
    "speaker = 'CORPORATE'\n",
    "cor_replies_numbers_chats = analysis.get_replies_distibution(tokinazed_dataset, speaker)\n",
    "cor_replies_numbers = pd.Series(cor_replies_numbers_chats.index)\n",
    "\n",
    "speaker = 'MANAGER'\n",
    "man_replies_numbers_chats = analysis.get_replies_distibution(tokinazed_dataset, speaker)\n",
    "man_replies_numbers = pd.Series(man_replies_numbers_chats.index)\n",
    "plt.plot(replies_numbers, replies_numbers_chats, 'r',\n",
    "         cor_replies_numbers, cor_replies_numbers_chats, 'b',\n",
    "         man_replies_numbers, man_replies_numbers_chats, 'g'\n",
    "        )"
   ]
  },
  {
   "cell_type": "code",
   "execution_count": 145,
   "metadata": {},
   "outputs": [
    {
     "data": {
      "text/plain": [
       "1      8540\n",
       "2      7935\n",
       "3      9092\n",
       "4      8207\n",
       "5      6401\n",
       "6      4640\n",
       "7      3468\n",
       "8      2429\n",
       "9      1846\n",
       "10     1339\n",
       "11      998\n",
       "12      690\n",
       "13      549\n",
       "14      440\n",
       "15      351\n",
       "16      275\n",
       "17      229\n",
       "18      179\n",
       "19      125\n",
       "20      103\n",
       "21       84\n",
       "22       74\n",
       "23       67\n",
       "24       48\n",
       "25       46\n",
       "26       44\n",
       "27       21\n",
       "28       27\n",
       "29       15\n",
       "30       17\n",
       "31       11\n",
       "32        8\n",
       "33       19\n",
       "34        9\n",
       "35        4\n",
       "36        5\n",
       "37        6\n",
       "38        5\n",
       "39        4\n",
       "40        5\n",
       "41        5\n",
       "42        1\n",
       "43        3\n",
       "44        4\n",
       "46        4\n",
       "47        3\n",
       "48        5\n",
       "49        3\n",
       "50        3\n",
       "51        2\n",
       "54        2\n",
       "57        1\n",
       "59        1\n",
       "67        1\n",
       "75        1\n",
       "102       1\n",
       "Name: CHAT_ID, dtype: int64"
      ]
     },
     "execution_count": 145,
     "metadata": {},
     "output_type": "execute_result"
    }
   ],
   "source": [
    "cor_replies_numbers_chats"
   ]
  },
  {
   "cell_type": "code",
   "execution_count": null,
   "metadata": {
    "collapsed": true
   },
   "outputs": [],
   "source": []
  }
 ],
 "metadata": {
  "kernelspec": {
   "display_name": "Python 3",
   "language": "python",
   "name": "python3"
  },
  "language_info": {
   "codemirror_mode": {
    "name": "ipython",
    "version": 3
   },
   "file_extension": ".py",
   "mimetype": "text/x-python",
   "name": "python",
   "nbconvert_exporter": "python",
   "pygments_lexer": "ipython3",
   "version": "3.4.3"
  }
 },
 "nbformat": 4,
 "nbformat_minor": 2
}
